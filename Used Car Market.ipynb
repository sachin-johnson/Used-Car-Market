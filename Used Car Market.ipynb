{
 "cells": [
  {
   "cell_type": "markdown",
   "metadata": {},
   "source": [
    "# Used Car Market\n",
    "\n",
    "[eBay Kleinanzeigen](https://www.ebay-kleinanzeigen.de/), a [classifieds](https://en.wikipedia.org/wiki/Classified_advertising) section of the German eBay website is a popular market place for used cars. \n",
    "\n",
    "## Aim\n",
    "\n",
    "To get insights into the used car market in Germany and to find the various factors that affect the\n",
    "resale value, by analyzing [eBay Kleinanzeigen](https://www.ebay-kleinanzeigen.de/)."
   ]
  },
  {
   "cell_type": "markdown",
   "metadata": {},
   "source": [
    "## Dataset\n",
    "\n",
    "The entire dataset can be found [here](https://data.world/data-society/used-cars-data). For this analysis we have sampled 50,000 data points that was prepared by [Dataquest](https://www.dataquest.io/) including simulating a less-cleaned version of the data. Below are the description of the columns present in the dataset.\n",
    "\n",
    "* `dateCrawled`: When this ad was first crawled. All field-values are taken from this date.\n",
    "* `name`: Name of the car.\n",
    "* `seller`: Whether the seller is private or a dealer.\n",
    "* `offerType`: The type of listing\n",
    "* `price`: The price on the ad to sell the car.\n",
    "* `abtest`: Whether the listing is included in an A/B test.\n",
    "* `vehicleType`: The vehicle Type.\n",
    "* `yearOfRegistration`: The year in which the car was first registered.\n",
    "* `gearbox`: The transmission type.\n",
    "* `powerPS`: The power of the car in PS.\n",
    "* `model`: The car model name.\n",
    "* `odometer`: How many kilometers the car has driven.\n",
    "* `monthOfRegistration`: The month in which the car was first registered.\n",
    "* `fuelType`: What type of fuel the car uses.\n",
    "* `brand`: The brand of the car.\n",
    "* `notRepairedDamage`: If the car has a damage which is not yet repaired.\n",
    "* `dateCreated`: The date on which the eBay listing was created.\n",
    "* `nrOfPictures`: The number of pictures in the ad.\n",
    "* `postalCode`: The postal code for the location of the vehicle.\n",
    "* `lastSeen`: When the crawler saw this ad last online.\n",
    "\n",
    "Let's start by importing the libraries we need and reading the dataset into pandas."
   ]
  },
  {
   "cell_type": "code",
   "execution_count": 1,
   "metadata": {},
   "outputs": [],
   "source": [
    "# Importing NumPy and Pandas library.\n",
    "\n",
    "import numpy as np\n",
    "import pandas as pd"
   ]
  },
  {
   "cell_type": "code",
   "execution_count": 2,
   "metadata": {},
   "outputs": [],
   "source": [
    "# Reading autos.csv file into Pandas.\n",
    "\n",
    "autos = pd.read_csv(\"autos.csv\", encoding=\"Latin-1\")"
   ]
  },
  {
   "cell_type": "code",
   "execution_count": 3,
   "metadata": {},
   "outputs": [
    {
     "name": "stdout",
     "output_type": "stream",
     "text": [
      "<class 'pandas.core.frame.DataFrame'>\n",
      "RangeIndex: 50000 entries, 0 to 49999\n",
      "Data columns (total 20 columns):\n",
      " #   Column               Non-Null Count  Dtype \n",
      "---  ------               --------------  ----- \n",
      " 0   dateCrawled          50000 non-null  object\n",
      " 1   name                 50000 non-null  object\n",
      " 2   seller               50000 non-null  object\n",
      " 3   offerType            50000 non-null  object\n",
      " 4   price                50000 non-null  object\n",
      " 5   abtest               50000 non-null  object\n",
      " 6   vehicleType          44905 non-null  object\n",
      " 7   yearOfRegistration   50000 non-null  int64 \n",
      " 8   gearbox              47320 non-null  object\n",
      " 9   powerPS              50000 non-null  int64 \n",
      " 10  model                47242 non-null  object\n",
      " 11  odometer             50000 non-null  object\n",
      " 12  monthOfRegistration  50000 non-null  int64 \n",
      " 13  fuelType             45518 non-null  object\n",
      " 14  brand                50000 non-null  object\n",
      " 15  notRepairedDamage    40171 non-null  object\n",
      " 16  dateCreated          50000 non-null  object\n",
      " 17  nrOfPictures         50000 non-null  int64 \n",
      " 18  postalCode           50000 non-null  int64 \n",
      " 19  lastSeen             50000 non-null  object\n",
      "dtypes: int64(5), object(15)\n",
      "memory usage: 7.6+ MB\n"
     ]
    }
   ],
   "source": [
    "# To find additional information about autos dataset.\n",
    "\n",
    "autos.info()"
   ]
  },
  {
   "cell_type": "code",
   "execution_count": 4,
   "metadata": {},
   "outputs": [
    {
     "data": {
      "text/html": [
       "<div>\n",
       "<style scoped>\n",
       "    .dataframe tbody tr th:only-of-type {\n",
       "        vertical-align: middle;\n",
       "    }\n",
       "\n",
       "    .dataframe tbody tr th {\n",
       "        vertical-align: top;\n",
       "    }\n",
       "\n",
       "    .dataframe thead th {\n",
       "        text-align: right;\n",
       "    }\n",
       "</style>\n",
       "<table border=\"1\" class=\"dataframe\">\n",
       "  <thead>\n",
       "    <tr style=\"text-align: right;\">\n",
       "      <th></th>\n",
       "      <th>dateCrawled</th>\n",
       "      <th>name</th>\n",
       "      <th>seller</th>\n",
       "      <th>offerType</th>\n",
       "      <th>price</th>\n",
       "      <th>abtest</th>\n",
       "      <th>vehicleType</th>\n",
       "      <th>yearOfRegistration</th>\n",
       "      <th>gearbox</th>\n",
       "      <th>powerPS</th>\n",
       "      <th>model</th>\n",
       "      <th>odometer</th>\n",
       "      <th>monthOfRegistration</th>\n",
       "      <th>fuelType</th>\n",
       "      <th>brand</th>\n",
       "      <th>notRepairedDamage</th>\n",
       "      <th>dateCreated</th>\n",
       "      <th>nrOfPictures</th>\n",
       "      <th>postalCode</th>\n",
       "      <th>lastSeen</th>\n",
       "    </tr>\n",
       "  </thead>\n",
       "  <tbody>\n",
       "    <tr>\n",
       "      <th>0</th>\n",
       "      <td>2016-03-26 17:47:46</td>\n",
       "      <td>Peugeot_807_160_NAVTECH_ON_BOARD</td>\n",
       "      <td>privat</td>\n",
       "      <td>Angebot</td>\n",
       "      <td>$5,000</td>\n",
       "      <td>control</td>\n",
       "      <td>bus</td>\n",
       "      <td>2004</td>\n",
       "      <td>manuell</td>\n",
       "      <td>158</td>\n",
       "      <td>andere</td>\n",
       "      <td>150,000km</td>\n",
       "      <td>3</td>\n",
       "      <td>lpg</td>\n",
       "      <td>peugeot</td>\n",
       "      <td>nein</td>\n",
       "      <td>2016-03-26 00:00:00</td>\n",
       "      <td>0</td>\n",
       "      <td>79588</td>\n",
       "      <td>2016-04-06 06:45:54</td>\n",
       "    </tr>\n",
       "    <tr>\n",
       "      <th>1</th>\n",
       "      <td>2016-04-04 13:38:56</td>\n",
       "      <td>BMW_740i_4_4_Liter_HAMANN_UMBAU_Mega_Optik</td>\n",
       "      <td>privat</td>\n",
       "      <td>Angebot</td>\n",
       "      <td>$8,500</td>\n",
       "      <td>control</td>\n",
       "      <td>limousine</td>\n",
       "      <td>1997</td>\n",
       "      <td>automatik</td>\n",
       "      <td>286</td>\n",
       "      <td>7er</td>\n",
       "      <td>150,000km</td>\n",
       "      <td>6</td>\n",
       "      <td>benzin</td>\n",
       "      <td>bmw</td>\n",
       "      <td>nein</td>\n",
       "      <td>2016-04-04 00:00:00</td>\n",
       "      <td>0</td>\n",
       "      <td>71034</td>\n",
       "      <td>2016-04-06 14:45:08</td>\n",
       "    </tr>\n",
       "    <tr>\n",
       "      <th>2</th>\n",
       "      <td>2016-03-26 18:57:24</td>\n",
       "      <td>Volkswagen_Golf_1.6_United</td>\n",
       "      <td>privat</td>\n",
       "      <td>Angebot</td>\n",
       "      <td>$8,990</td>\n",
       "      <td>test</td>\n",
       "      <td>limousine</td>\n",
       "      <td>2009</td>\n",
       "      <td>manuell</td>\n",
       "      <td>102</td>\n",
       "      <td>golf</td>\n",
       "      <td>70,000km</td>\n",
       "      <td>7</td>\n",
       "      <td>benzin</td>\n",
       "      <td>volkswagen</td>\n",
       "      <td>nein</td>\n",
       "      <td>2016-03-26 00:00:00</td>\n",
       "      <td>0</td>\n",
       "      <td>35394</td>\n",
       "      <td>2016-04-06 20:15:37</td>\n",
       "    </tr>\n",
       "    <tr>\n",
       "      <th>3</th>\n",
       "      <td>2016-03-12 16:58:10</td>\n",
       "      <td>Smart_smart_fortwo_coupe_softouch/F1/Klima/Pan...</td>\n",
       "      <td>privat</td>\n",
       "      <td>Angebot</td>\n",
       "      <td>$4,350</td>\n",
       "      <td>control</td>\n",
       "      <td>kleinwagen</td>\n",
       "      <td>2007</td>\n",
       "      <td>automatik</td>\n",
       "      <td>71</td>\n",
       "      <td>fortwo</td>\n",
       "      <td>70,000km</td>\n",
       "      <td>6</td>\n",
       "      <td>benzin</td>\n",
       "      <td>smart</td>\n",
       "      <td>nein</td>\n",
       "      <td>2016-03-12 00:00:00</td>\n",
       "      <td>0</td>\n",
       "      <td>33729</td>\n",
       "      <td>2016-03-15 03:16:28</td>\n",
       "    </tr>\n",
       "    <tr>\n",
       "      <th>4</th>\n",
       "      <td>2016-04-01 14:38:50</td>\n",
       "      <td>Ford_Focus_1_6_Benzin_TÜV_neu_ist_sehr_gepfleg...</td>\n",
       "      <td>privat</td>\n",
       "      <td>Angebot</td>\n",
       "      <td>$1,350</td>\n",
       "      <td>test</td>\n",
       "      <td>kombi</td>\n",
       "      <td>2003</td>\n",
       "      <td>manuell</td>\n",
       "      <td>0</td>\n",
       "      <td>focus</td>\n",
       "      <td>150,000km</td>\n",
       "      <td>7</td>\n",
       "      <td>benzin</td>\n",
       "      <td>ford</td>\n",
       "      <td>nein</td>\n",
       "      <td>2016-04-01 00:00:00</td>\n",
       "      <td>0</td>\n",
       "      <td>39218</td>\n",
       "      <td>2016-04-01 14:38:50</td>\n",
       "    </tr>\n",
       "  </tbody>\n",
       "</table>\n",
       "</div>"
      ],
      "text/plain": [
       "           dateCrawled                                               name  \\\n",
       "0  2016-03-26 17:47:46                   Peugeot_807_160_NAVTECH_ON_BOARD   \n",
       "1  2016-04-04 13:38:56         BMW_740i_4_4_Liter_HAMANN_UMBAU_Mega_Optik   \n",
       "2  2016-03-26 18:57:24                         Volkswagen_Golf_1.6_United   \n",
       "3  2016-03-12 16:58:10  Smart_smart_fortwo_coupe_softouch/F1/Klima/Pan...   \n",
       "4  2016-04-01 14:38:50  Ford_Focus_1_6_Benzin_TÜV_neu_ist_sehr_gepfleg...   \n",
       "\n",
       "   seller offerType   price   abtest vehicleType  yearOfRegistration  \\\n",
       "0  privat   Angebot  $5,000  control         bus                2004   \n",
       "1  privat   Angebot  $8,500  control   limousine                1997   \n",
       "2  privat   Angebot  $8,990     test   limousine                2009   \n",
       "3  privat   Angebot  $4,350  control  kleinwagen                2007   \n",
       "4  privat   Angebot  $1,350     test       kombi                2003   \n",
       "\n",
       "     gearbox  powerPS   model   odometer  monthOfRegistration fuelType  \\\n",
       "0    manuell      158  andere  150,000km                    3      lpg   \n",
       "1  automatik      286     7er  150,000km                    6   benzin   \n",
       "2    manuell      102    golf   70,000km                    7   benzin   \n",
       "3  automatik       71  fortwo   70,000km                    6   benzin   \n",
       "4    manuell        0   focus  150,000km                    7   benzin   \n",
       "\n",
       "        brand notRepairedDamage          dateCreated  nrOfPictures  \\\n",
       "0     peugeot              nein  2016-03-26 00:00:00             0   \n",
       "1         bmw              nein  2016-04-04 00:00:00             0   \n",
       "2  volkswagen              nein  2016-03-26 00:00:00             0   \n",
       "3       smart              nein  2016-03-12 00:00:00             0   \n",
       "4        ford              nein  2016-04-01 00:00:00             0   \n",
       "\n",
       "   postalCode             lastSeen  \n",
       "0       79588  2016-04-06 06:45:54  \n",
       "1       71034  2016-04-06 14:45:08  \n",
       "2       35394  2016-04-06 20:15:37  \n",
       "3       33729  2016-03-15 03:16:28  \n",
       "4       39218  2016-04-01 14:38:50  "
      ]
     },
     "execution_count": 4,
     "metadata": {},
     "output_type": "execute_result"
    }
   ],
   "source": [
    "# To display the first 5 rows in autos dataset.\n",
    "\n",
    "autos.head()"
   ]
  },
  {
   "cell_type": "markdown",
   "metadata": {},
   "source": [
    "The following observations can be made about the dataset.\n",
    "\n",
    "* The dataset contains 20 columns, most of which are strings.\n",
    "* Some columns have null values, but none have more than ~20% null values.\n",
    "* The column names use [camelcase](https://en.wikipedia.org/wiki/Camel_case) instead of Python's preferred [snakecase](https://en.wikipedia.org/wiki/Snake_case), which means we can't just replace spaces with underscores.\n",
    "\n",
    "## Data Cleaning\n",
    "\n",
    "Let's begin our cleaning process by converting column names to snakecase.\n",
    "\n",
    "**Converting column names to snakecase**\n",
    "\n",
    "Make the following change to column names.\n",
    "\n",
    "* `yearOfRegistration` to `registration_year`\n",
    "* `monthOfRegistration` to `registration_month`\n",
    "* `notRepairedDamage` to `unrepaired_damage`\n",
    "* `dateCreated` to `ad_created`\n",
    "* `nrOfPictures` to `num_photos`\n",
    "* The rest of the column names from camelcase to snakecase."
   ]
  },
  {
   "cell_type": "code",
   "execution_count": 5,
   "metadata": {},
   "outputs": [
    {
     "data": {
      "text/plain": [
       "Index(['dateCrawled', 'name', 'seller', 'offerType', 'price', 'abtest',\n",
       "       'vehicleType', 'yearOfRegistration', 'gearbox', 'powerPS', 'model',\n",
       "       'odometer', 'monthOfRegistration', 'fuelType', 'brand',\n",
       "       'notRepairedDamage', 'dateCreated', 'nrOfPictures', 'postalCode',\n",
       "       'lastSeen'],\n",
       "      dtype='object')"
      ]
     },
     "execution_count": 5,
     "metadata": {},
     "output_type": "execute_result"
    }
   ],
   "source": [
    "# To display all column names in autos dataset.\n",
    "\n",
    "autos.columns"
   ]
  },
  {
   "cell_type": "code",
   "execution_count": 6,
   "metadata": {},
   "outputs": [],
   "source": [
    "# Renaming column names to snakecase.\n",
    "\n",
    "autos.rename({\n",
    "    \"dateCrawled\": \"date_crawled\", \"offerType\": \"offer_type\", \"abtest\": \"ab_test\", \"vehicleType\": \"vehicle_type\",\n",
    "    \"yearOfRegistration\": \"registration_year\", \"powerPS\": \"power_ps\", \"monthOfRegistration\": \"registration_month\",\n",
    "    \"fuelType\": \"fuel_type\", \"notRepairedDamage\": \"unrepaired_damage\", \"dateCreated\": \"ad_created\",\n",
    "                \"nrOfPictures\": \"num_photos\", \"postalCode\": \"postal_code\", \"lastSeen\": \"last_seen\"\n",
    "}, axis=\"columns\", inplace=True)"
   ]
  },
  {
   "cell_type": "code",
   "execution_count": 7,
   "metadata": {},
   "outputs": [
    {
     "data": {
      "text/plain": [
       "Index(['date_crawled', 'name', 'seller', 'offer_type', 'price', 'ab_test',\n",
       "       'vehicle_type', 'registration_year', 'gearbox', 'power_ps', 'model',\n",
       "       'odometer', 'registration_month', 'fuel_type', 'brand',\n",
       "       'unrepaired_damage', 'ad_created', 'num_photos', 'postal_code',\n",
       "       'last_seen'],\n",
       "      dtype='object')"
      ]
     },
     "execution_count": 7,
     "metadata": {},
     "output_type": "execute_result"
    }
   ],
   "source": [
    "# To check the renamed columns.\n",
    "\n",
    "autos.columns"
   ]
  },
  {
   "cell_type": "code",
   "execution_count": 8,
   "metadata": {
    "scrolled": true
   },
   "outputs": [
    {
     "data": {
      "text/html": [
       "<div>\n",
       "<style scoped>\n",
       "    .dataframe tbody tr th:only-of-type {\n",
       "        vertical-align: middle;\n",
       "    }\n",
       "\n",
       "    .dataframe tbody tr th {\n",
       "        vertical-align: top;\n",
       "    }\n",
       "\n",
       "    .dataframe thead th {\n",
       "        text-align: right;\n",
       "    }\n",
       "</style>\n",
       "<table border=\"1\" class=\"dataframe\">\n",
       "  <thead>\n",
       "    <tr style=\"text-align: right;\">\n",
       "      <th></th>\n",
       "      <th>date_crawled</th>\n",
       "      <th>name</th>\n",
       "      <th>seller</th>\n",
       "      <th>offer_type</th>\n",
       "      <th>price</th>\n",
       "      <th>ab_test</th>\n",
       "      <th>vehicle_type</th>\n",
       "      <th>registration_year</th>\n",
       "      <th>gearbox</th>\n",
       "      <th>power_ps</th>\n",
       "      <th>model</th>\n",
       "      <th>odometer</th>\n",
       "      <th>registration_month</th>\n",
       "      <th>fuel_type</th>\n",
       "      <th>brand</th>\n",
       "      <th>unrepaired_damage</th>\n",
       "      <th>ad_created</th>\n",
       "      <th>num_photos</th>\n",
       "      <th>postal_code</th>\n",
       "      <th>last_seen</th>\n",
       "    </tr>\n",
       "  </thead>\n",
       "  <tbody>\n",
       "    <tr>\n",
       "      <th>0</th>\n",
       "      <td>2016-03-26 17:47:46</td>\n",
       "      <td>Peugeot_807_160_NAVTECH_ON_BOARD</td>\n",
       "      <td>privat</td>\n",
       "      <td>Angebot</td>\n",
       "      <td>$5,000</td>\n",
       "      <td>control</td>\n",
       "      <td>bus</td>\n",
       "      <td>2004</td>\n",
       "      <td>manuell</td>\n",
       "      <td>158</td>\n",
       "      <td>andere</td>\n",
       "      <td>150,000km</td>\n",
       "      <td>3</td>\n",
       "      <td>lpg</td>\n",
       "      <td>peugeot</td>\n",
       "      <td>nein</td>\n",
       "      <td>2016-03-26 00:00:00</td>\n",
       "      <td>0</td>\n",
       "      <td>79588</td>\n",
       "      <td>2016-04-06 06:45:54</td>\n",
       "    </tr>\n",
       "    <tr>\n",
       "      <th>1</th>\n",
       "      <td>2016-04-04 13:38:56</td>\n",
       "      <td>BMW_740i_4_4_Liter_HAMANN_UMBAU_Mega_Optik</td>\n",
       "      <td>privat</td>\n",
       "      <td>Angebot</td>\n",
       "      <td>$8,500</td>\n",
       "      <td>control</td>\n",
       "      <td>limousine</td>\n",
       "      <td>1997</td>\n",
       "      <td>automatik</td>\n",
       "      <td>286</td>\n",
       "      <td>7er</td>\n",
       "      <td>150,000km</td>\n",
       "      <td>6</td>\n",
       "      <td>benzin</td>\n",
       "      <td>bmw</td>\n",
       "      <td>nein</td>\n",
       "      <td>2016-04-04 00:00:00</td>\n",
       "      <td>0</td>\n",
       "      <td>71034</td>\n",
       "      <td>2016-04-06 14:45:08</td>\n",
       "    </tr>\n",
       "    <tr>\n",
       "      <th>2</th>\n",
       "      <td>2016-03-26 18:57:24</td>\n",
       "      <td>Volkswagen_Golf_1.6_United</td>\n",
       "      <td>privat</td>\n",
       "      <td>Angebot</td>\n",
       "      <td>$8,990</td>\n",
       "      <td>test</td>\n",
       "      <td>limousine</td>\n",
       "      <td>2009</td>\n",
       "      <td>manuell</td>\n",
       "      <td>102</td>\n",
       "      <td>golf</td>\n",
       "      <td>70,000km</td>\n",
       "      <td>7</td>\n",
       "      <td>benzin</td>\n",
       "      <td>volkswagen</td>\n",
       "      <td>nein</td>\n",
       "      <td>2016-03-26 00:00:00</td>\n",
       "      <td>0</td>\n",
       "      <td>35394</td>\n",
       "      <td>2016-04-06 20:15:37</td>\n",
       "    </tr>\n",
       "    <tr>\n",
       "      <th>3</th>\n",
       "      <td>2016-03-12 16:58:10</td>\n",
       "      <td>Smart_smart_fortwo_coupe_softouch/F1/Klima/Pan...</td>\n",
       "      <td>privat</td>\n",
       "      <td>Angebot</td>\n",
       "      <td>$4,350</td>\n",
       "      <td>control</td>\n",
       "      <td>kleinwagen</td>\n",
       "      <td>2007</td>\n",
       "      <td>automatik</td>\n",
       "      <td>71</td>\n",
       "      <td>fortwo</td>\n",
       "      <td>70,000km</td>\n",
       "      <td>6</td>\n",
       "      <td>benzin</td>\n",
       "      <td>smart</td>\n",
       "      <td>nein</td>\n",
       "      <td>2016-03-12 00:00:00</td>\n",
       "      <td>0</td>\n",
       "      <td>33729</td>\n",
       "      <td>2016-03-15 03:16:28</td>\n",
       "    </tr>\n",
       "    <tr>\n",
       "      <th>4</th>\n",
       "      <td>2016-04-01 14:38:50</td>\n",
       "      <td>Ford_Focus_1_6_Benzin_TÜV_neu_ist_sehr_gepfleg...</td>\n",
       "      <td>privat</td>\n",
       "      <td>Angebot</td>\n",
       "      <td>$1,350</td>\n",
       "      <td>test</td>\n",
       "      <td>kombi</td>\n",
       "      <td>2003</td>\n",
       "      <td>manuell</td>\n",
       "      <td>0</td>\n",
       "      <td>focus</td>\n",
       "      <td>150,000km</td>\n",
       "      <td>7</td>\n",
       "      <td>benzin</td>\n",
       "      <td>ford</td>\n",
       "      <td>nein</td>\n",
       "      <td>2016-04-01 00:00:00</td>\n",
       "      <td>0</td>\n",
       "      <td>39218</td>\n",
       "      <td>2016-04-01 14:38:50</td>\n",
       "    </tr>\n",
       "  </tbody>\n",
       "</table>\n",
       "</div>"
      ],
      "text/plain": [
       "          date_crawled                                               name  \\\n",
       "0  2016-03-26 17:47:46                   Peugeot_807_160_NAVTECH_ON_BOARD   \n",
       "1  2016-04-04 13:38:56         BMW_740i_4_4_Liter_HAMANN_UMBAU_Mega_Optik   \n",
       "2  2016-03-26 18:57:24                         Volkswagen_Golf_1.6_United   \n",
       "3  2016-03-12 16:58:10  Smart_smart_fortwo_coupe_softouch/F1/Klima/Pan...   \n",
       "4  2016-04-01 14:38:50  Ford_Focus_1_6_Benzin_TÜV_neu_ist_sehr_gepfleg...   \n",
       "\n",
       "   seller offer_type   price  ab_test vehicle_type  registration_year  \\\n",
       "0  privat    Angebot  $5,000  control          bus               2004   \n",
       "1  privat    Angebot  $8,500  control    limousine               1997   \n",
       "2  privat    Angebot  $8,990     test    limousine               2009   \n",
       "3  privat    Angebot  $4,350  control   kleinwagen               2007   \n",
       "4  privat    Angebot  $1,350     test        kombi               2003   \n",
       "\n",
       "     gearbox  power_ps   model   odometer  registration_month fuel_type  \\\n",
       "0    manuell       158  andere  150,000km                   3       lpg   \n",
       "1  automatik       286     7er  150,000km                   6    benzin   \n",
       "2    manuell       102    golf   70,000km                   7    benzin   \n",
       "3  automatik        71  fortwo   70,000km                   6    benzin   \n",
       "4    manuell         0   focus  150,000km                   7    benzin   \n",
       "\n",
       "        brand unrepaired_damage           ad_created  num_photos  postal_code  \\\n",
       "0     peugeot              nein  2016-03-26 00:00:00           0        79588   \n",
       "1         bmw              nein  2016-04-04 00:00:00           0        71034   \n",
       "2  volkswagen              nein  2016-03-26 00:00:00           0        35394   \n",
       "3       smart              nein  2016-03-12 00:00:00           0        33729   \n",
       "4        ford              nein  2016-04-01 00:00:00           0        39218   \n",
       "\n",
       "             last_seen  \n",
       "0  2016-04-06 06:45:54  \n",
       "1  2016-04-06 14:45:08  \n",
       "2  2016-04-06 20:15:37  \n",
       "3  2016-03-15 03:16:28  \n",
       "4  2016-04-01 14:38:50  "
      ]
     },
     "execution_count": 8,
     "metadata": {},
     "output_type": "execute_result"
    }
   ],
   "source": [
    "# To display the first 5 rows.\n",
    "\n",
    "autos.head()"
   ]
  },
  {
   "cell_type": "markdown",
   "metadata": {},
   "source": [
    "> Thus the column names are converted to snakecase."
   ]
  },
  {
   "cell_type": "markdown",
   "metadata": {},
   "source": [
    "Let's look at the descriptive statistics for all columns."
   ]
  },
  {
   "cell_type": "code",
   "execution_count": 9,
   "metadata": {},
   "outputs": [
    {
     "data": {
      "text/html": [
       "<div>\n",
       "<style scoped>\n",
       "    .dataframe tbody tr th:only-of-type {\n",
       "        vertical-align: middle;\n",
       "    }\n",
       "\n",
       "    .dataframe tbody tr th {\n",
       "        vertical-align: top;\n",
       "    }\n",
       "\n",
       "    .dataframe thead th {\n",
       "        text-align: right;\n",
       "    }\n",
       "</style>\n",
       "<table border=\"1\" class=\"dataframe\">\n",
       "  <thead>\n",
       "    <tr style=\"text-align: right;\">\n",
       "      <th></th>\n",
       "      <th>date_crawled</th>\n",
       "      <th>name</th>\n",
       "      <th>seller</th>\n",
       "      <th>offer_type</th>\n",
       "      <th>price</th>\n",
       "      <th>ab_test</th>\n",
       "      <th>vehicle_type</th>\n",
       "      <th>registration_year</th>\n",
       "      <th>gearbox</th>\n",
       "      <th>power_ps</th>\n",
       "      <th>model</th>\n",
       "      <th>odometer</th>\n",
       "      <th>registration_month</th>\n",
       "      <th>fuel_type</th>\n",
       "      <th>brand</th>\n",
       "      <th>unrepaired_damage</th>\n",
       "      <th>ad_created</th>\n",
       "      <th>num_photos</th>\n",
       "      <th>postal_code</th>\n",
       "      <th>last_seen</th>\n",
       "    </tr>\n",
       "  </thead>\n",
       "  <tbody>\n",
       "    <tr>\n",
       "      <th>count</th>\n",
       "      <td>50000</td>\n",
       "      <td>50000</td>\n",
       "      <td>50000</td>\n",
       "      <td>50000</td>\n",
       "      <td>50000</td>\n",
       "      <td>50000</td>\n",
       "      <td>44905</td>\n",
       "      <td>50000.000000</td>\n",
       "      <td>47320</td>\n",
       "      <td>50000.000000</td>\n",
       "      <td>47242</td>\n",
       "      <td>50000</td>\n",
       "      <td>50000.000000</td>\n",
       "      <td>45518</td>\n",
       "      <td>50000</td>\n",
       "      <td>40171</td>\n",
       "      <td>50000</td>\n",
       "      <td>50000.0</td>\n",
       "      <td>50000.000000</td>\n",
       "      <td>50000</td>\n",
       "    </tr>\n",
       "    <tr>\n",
       "      <th>unique</th>\n",
       "      <td>48213</td>\n",
       "      <td>38754</td>\n",
       "      <td>2</td>\n",
       "      <td>2</td>\n",
       "      <td>2357</td>\n",
       "      <td>2</td>\n",
       "      <td>8</td>\n",
       "      <td>NaN</td>\n",
       "      <td>2</td>\n",
       "      <td>NaN</td>\n",
       "      <td>245</td>\n",
       "      <td>13</td>\n",
       "      <td>NaN</td>\n",
       "      <td>7</td>\n",
       "      <td>40</td>\n",
       "      <td>2</td>\n",
       "      <td>76</td>\n",
       "      <td>NaN</td>\n",
       "      <td>NaN</td>\n",
       "      <td>39481</td>\n",
       "    </tr>\n",
       "    <tr>\n",
       "      <th>top</th>\n",
       "      <td>2016-03-23 18:39:34</td>\n",
       "      <td>Ford_Fiesta</td>\n",
       "      <td>privat</td>\n",
       "      <td>Angebot</td>\n",
       "      <td>$0</td>\n",
       "      <td>test</td>\n",
       "      <td>limousine</td>\n",
       "      <td>NaN</td>\n",
       "      <td>manuell</td>\n",
       "      <td>NaN</td>\n",
       "      <td>golf</td>\n",
       "      <td>150,000km</td>\n",
       "      <td>NaN</td>\n",
       "      <td>benzin</td>\n",
       "      <td>volkswagen</td>\n",
       "      <td>nein</td>\n",
       "      <td>2016-04-03 00:00:00</td>\n",
       "      <td>NaN</td>\n",
       "      <td>NaN</td>\n",
       "      <td>2016-04-07 06:17:27</td>\n",
       "    </tr>\n",
       "    <tr>\n",
       "      <th>freq</th>\n",
       "      <td>3</td>\n",
       "      <td>78</td>\n",
       "      <td>49999</td>\n",
       "      <td>49999</td>\n",
       "      <td>1421</td>\n",
       "      <td>25756</td>\n",
       "      <td>12859</td>\n",
       "      <td>NaN</td>\n",
       "      <td>36993</td>\n",
       "      <td>NaN</td>\n",
       "      <td>4024</td>\n",
       "      <td>32424</td>\n",
       "      <td>NaN</td>\n",
       "      <td>30107</td>\n",
       "      <td>10687</td>\n",
       "      <td>35232</td>\n",
       "      <td>1946</td>\n",
       "      <td>NaN</td>\n",
       "      <td>NaN</td>\n",
       "      <td>8</td>\n",
       "    </tr>\n",
       "    <tr>\n",
       "      <th>mean</th>\n",
       "      <td>NaN</td>\n",
       "      <td>NaN</td>\n",
       "      <td>NaN</td>\n",
       "      <td>NaN</td>\n",
       "      <td>NaN</td>\n",
       "      <td>NaN</td>\n",
       "      <td>NaN</td>\n",
       "      <td>2005.073280</td>\n",
       "      <td>NaN</td>\n",
       "      <td>116.355920</td>\n",
       "      <td>NaN</td>\n",
       "      <td>NaN</td>\n",
       "      <td>5.723360</td>\n",
       "      <td>NaN</td>\n",
       "      <td>NaN</td>\n",
       "      <td>NaN</td>\n",
       "      <td>NaN</td>\n",
       "      <td>0.0</td>\n",
       "      <td>50813.627300</td>\n",
       "      <td>NaN</td>\n",
       "    </tr>\n",
       "    <tr>\n",
       "      <th>std</th>\n",
       "      <td>NaN</td>\n",
       "      <td>NaN</td>\n",
       "      <td>NaN</td>\n",
       "      <td>NaN</td>\n",
       "      <td>NaN</td>\n",
       "      <td>NaN</td>\n",
       "      <td>NaN</td>\n",
       "      <td>105.712813</td>\n",
       "      <td>NaN</td>\n",
       "      <td>209.216627</td>\n",
       "      <td>NaN</td>\n",
       "      <td>NaN</td>\n",
       "      <td>3.711984</td>\n",
       "      <td>NaN</td>\n",
       "      <td>NaN</td>\n",
       "      <td>NaN</td>\n",
       "      <td>NaN</td>\n",
       "      <td>0.0</td>\n",
       "      <td>25779.747957</td>\n",
       "      <td>NaN</td>\n",
       "    </tr>\n",
       "    <tr>\n",
       "      <th>min</th>\n",
       "      <td>NaN</td>\n",
       "      <td>NaN</td>\n",
       "      <td>NaN</td>\n",
       "      <td>NaN</td>\n",
       "      <td>NaN</td>\n",
       "      <td>NaN</td>\n",
       "      <td>NaN</td>\n",
       "      <td>1000.000000</td>\n",
       "      <td>NaN</td>\n",
       "      <td>0.000000</td>\n",
       "      <td>NaN</td>\n",
       "      <td>NaN</td>\n",
       "      <td>0.000000</td>\n",
       "      <td>NaN</td>\n",
       "      <td>NaN</td>\n",
       "      <td>NaN</td>\n",
       "      <td>NaN</td>\n",
       "      <td>0.0</td>\n",
       "      <td>1067.000000</td>\n",
       "      <td>NaN</td>\n",
       "    </tr>\n",
       "    <tr>\n",
       "      <th>25%</th>\n",
       "      <td>NaN</td>\n",
       "      <td>NaN</td>\n",
       "      <td>NaN</td>\n",
       "      <td>NaN</td>\n",
       "      <td>NaN</td>\n",
       "      <td>NaN</td>\n",
       "      <td>NaN</td>\n",
       "      <td>1999.000000</td>\n",
       "      <td>NaN</td>\n",
       "      <td>70.000000</td>\n",
       "      <td>NaN</td>\n",
       "      <td>NaN</td>\n",
       "      <td>3.000000</td>\n",
       "      <td>NaN</td>\n",
       "      <td>NaN</td>\n",
       "      <td>NaN</td>\n",
       "      <td>NaN</td>\n",
       "      <td>0.0</td>\n",
       "      <td>30451.000000</td>\n",
       "      <td>NaN</td>\n",
       "    </tr>\n",
       "    <tr>\n",
       "      <th>50%</th>\n",
       "      <td>NaN</td>\n",
       "      <td>NaN</td>\n",
       "      <td>NaN</td>\n",
       "      <td>NaN</td>\n",
       "      <td>NaN</td>\n",
       "      <td>NaN</td>\n",
       "      <td>NaN</td>\n",
       "      <td>2003.000000</td>\n",
       "      <td>NaN</td>\n",
       "      <td>105.000000</td>\n",
       "      <td>NaN</td>\n",
       "      <td>NaN</td>\n",
       "      <td>6.000000</td>\n",
       "      <td>NaN</td>\n",
       "      <td>NaN</td>\n",
       "      <td>NaN</td>\n",
       "      <td>NaN</td>\n",
       "      <td>0.0</td>\n",
       "      <td>49577.000000</td>\n",
       "      <td>NaN</td>\n",
       "    </tr>\n",
       "    <tr>\n",
       "      <th>75%</th>\n",
       "      <td>NaN</td>\n",
       "      <td>NaN</td>\n",
       "      <td>NaN</td>\n",
       "      <td>NaN</td>\n",
       "      <td>NaN</td>\n",
       "      <td>NaN</td>\n",
       "      <td>NaN</td>\n",
       "      <td>2008.000000</td>\n",
       "      <td>NaN</td>\n",
       "      <td>150.000000</td>\n",
       "      <td>NaN</td>\n",
       "      <td>NaN</td>\n",
       "      <td>9.000000</td>\n",
       "      <td>NaN</td>\n",
       "      <td>NaN</td>\n",
       "      <td>NaN</td>\n",
       "      <td>NaN</td>\n",
       "      <td>0.0</td>\n",
       "      <td>71540.000000</td>\n",
       "      <td>NaN</td>\n",
       "    </tr>\n",
       "    <tr>\n",
       "      <th>max</th>\n",
       "      <td>NaN</td>\n",
       "      <td>NaN</td>\n",
       "      <td>NaN</td>\n",
       "      <td>NaN</td>\n",
       "      <td>NaN</td>\n",
       "      <td>NaN</td>\n",
       "      <td>NaN</td>\n",
       "      <td>9999.000000</td>\n",
       "      <td>NaN</td>\n",
       "      <td>17700.000000</td>\n",
       "      <td>NaN</td>\n",
       "      <td>NaN</td>\n",
       "      <td>12.000000</td>\n",
       "      <td>NaN</td>\n",
       "      <td>NaN</td>\n",
       "      <td>NaN</td>\n",
       "      <td>NaN</td>\n",
       "      <td>0.0</td>\n",
       "      <td>99998.000000</td>\n",
       "      <td>NaN</td>\n",
       "    </tr>\n",
       "  </tbody>\n",
       "</table>\n",
       "</div>"
      ],
      "text/plain": [
       "               date_crawled         name  seller offer_type  price ab_test  \\\n",
       "count                 50000        50000   50000      50000  50000   50000   \n",
       "unique                48213        38754       2          2   2357       2   \n",
       "top     2016-03-23 18:39:34  Ford_Fiesta  privat    Angebot     $0    test   \n",
       "freq                      3           78   49999      49999   1421   25756   \n",
       "mean                    NaN          NaN     NaN        NaN    NaN     NaN   \n",
       "std                     NaN          NaN     NaN        NaN    NaN     NaN   \n",
       "min                     NaN          NaN     NaN        NaN    NaN     NaN   \n",
       "25%                     NaN          NaN     NaN        NaN    NaN     NaN   \n",
       "50%                     NaN          NaN     NaN        NaN    NaN     NaN   \n",
       "75%                     NaN          NaN     NaN        NaN    NaN     NaN   \n",
       "max                     NaN          NaN     NaN        NaN    NaN     NaN   \n",
       "\n",
       "       vehicle_type  registration_year  gearbox      power_ps  model  \\\n",
       "count         44905       50000.000000    47320  50000.000000  47242   \n",
       "unique            8                NaN        2           NaN    245   \n",
       "top       limousine                NaN  manuell           NaN   golf   \n",
       "freq          12859                NaN    36993           NaN   4024   \n",
       "mean            NaN        2005.073280      NaN    116.355920    NaN   \n",
       "std             NaN         105.712813      NaN    209.216627    NaN   \n",
       "min             NaN        1000.000000      NaN      0.000000    NaN   \n",
       "25%             NaN        1999.000000      NaN     70.000000    NaN   \n",
       "50%             NaN        2003.000000      NaN    105.000000    NaN   \n",
       "75%             NaN        2008.000000      NaN    150.000000    NaN   \n",
       "max             NaN        9999.000000      NaN  17700.000000    NaN   \n",
       "\n",
       "         odometer  registration_month fuel_type       brand unrepaired_damage  \\\n",
       "count       50000        50000.000000     45518       50000             40171   \n",
       "unique         13                 NaN         7          40                 2   \n",
       "top     150,000km                 NaN    benzin  volkswagen              nein   \n",
       "freq        32424                 NaN     30107       10687             35232   \n",
       "mean          NaN            5.723360       NaN         NaN               NaN   \n",
       "std           NaN            3.711984       NaN         NaN               NaN   \n",
       "min           NaN            0.000000       NaN         NaN               NaN   \n",
       "25%           NaN            3.000000       NaN         NaN               NaN   \n",
       "50%           NaN            6.000000       NaN         NaN               NaN   \n",
       "75%           NaN            9.000000       NaN         NaN               NaN   \n",
       "max           NaN           12.000000       NaN         NaN               NaN   \n",
       "\n",
       "                 ad_created  num_photos   postal_code            last_seen  \n",
       "count                 50000     50000.0  50000.000000                50000  \n",
       "unique                   76         NaN           NaN                39481  \n",
       "top     2016-04-03 00:00:00         NaN           NaN  2016-04-07 06:17:27  \n",
       "freq                   1946         NaN           NaN                    8  \n",
       "mean                    NaN         0.0  50813.627300                  NaN  \n",
       "std                     NaN         0.0  25779.747957                  NaN  \n",
       "min                     NaN         0.0   1067.000000                  NaN  \n",
       "25%                     NaN         0.0  30451.000000                  NaN  \n",
       "50%                     NaN         0.0  49577.000000                  NaN  \n",
       "75%                     NaN         0.0  71540.000000                  NaN  \n",
       "max                     NaN         0.0  99998.000000                  NaN  "
      ]
     },
     "execution_count": 9,
     "metadata": {},
     "output_type": "execute_result"
    }
   ],
   "source": [
    "# To look at descriptive statistics for all columns. This is useful in data cleaning process.\n",
    "\n",
    "autos.describe(include=\"all\")"
   ]
  },
  {
   "cell_type": "markdown",
   "metadata": {},
   "source": [
    "Our observations are as follows.\n",
    "  \n",
    "* The `num_photos` column looks odd, we'll need to investigate this further.\n",
    "* Need to convert `price` and `odometer` columns to int type.\n",
    "* Need to change language of `unrepaired_damage` and `seller` column from german to english.\n",
    "* `registration_year` and `registration_month` column looks odd, needs further analysis.\n",
    "\n",
    "**num_photos column**"
   ]
  },
  {
   "cell_type": "code",
   "execution_count": 10,
   "metadata": {},
   "outputs": [
    {
     "data": {
      "text/plain": [
       "0    50000\n",
       "Name: num_photos, dtype: int64"
      ]
     },
     "execution_count": 10,
     "metadata": {},
     "output_type": "execute_result"
    }
   ],
   "source": [
    "# To find the various value counts in num_photos column.\n",
    "\n",
    "autos[\"num_photos\"].value_counts()"
   ]
  },
  {
   "cell_type": "markdown",
   "metadata": {},
   "source": [
    "As all values in num_photos column is zero, we can drop this column."
   ]
  },
  {
   "cell_type": "code",
   "execution_count": 11,
   "metadata": {},
   "outputs": [
    {
     "name": "stdout",
     "output_type": "stream",
     "text": [
      "<class 'pandas.core.frame.DataFrame'>\n",
      "RangeIndex: 50000 entries, 0 to 49999\n",
      "Data columns (total 19 columns):\n",
      " #   Column              Non-Null Count  Dtype \n",
      "---  ------              --------------  ----- \n",
      " 0   date_crawled        50000 non-null  object\n",
      " 1   name                50000 non-null  object\n",
      " 2   seller              50000 non-null  object\n",
      " 3   offer_type          50000 non-null  object\n",
      " 4   price               50000 non-null  object\n",
      " 5   ab_test             50000 non-null  object\n",
      " 6   vehicle_type        44905 non-null  object\n",
      " 7   registration_year   50000 non-null  int64 \n",
      " 8   gearbox             47320 non-null  object\n",
      " 9   power_ps            50000 non-null  int64 \n",
      " 10  model               47242 non-null  object\n",
      " 11  odometer            50000 non-null  object\n",
      " 12  registration_month  50000 non-null  int64 \n",
      " 13  fuel_type           45518 non-null  object\n",
      " 14  brand               50000 non-null  object\n",
      " 15  unrepaired_damage   40171 non-null  object\n",
      " 16  ad_created          50000 non-null  object\n",
      " 17  postal_code         50000 non-null  int64 \n",
      " 18  last_seen           50000 non-null  object\n",
      "dtypes: int64(4), object(15)\n",
      "memory usage: 7.2+ MB\n"
     ]
    }
   ],
   "source": [
    "# To drop num_photos column\n",
    "\n",
    "autos = autos.drop(\"num_photos\", axis=\"columns\")\n",
    "autos.info()"
   ]
  },
  {
   "cell_type": "markdown",
   "metadata": {},
   "source": [
    "> `num_photos` column was droped successfully.\n",
    "\n",
    "**price and odometer column**"
   ]
  },
  {
   "cell_type": "code",
   "execution_count": 12,
   "metadata": {},
   "outputs": [
    {
     "data": {
      "text/plain": [
       "array(['$5,000', '$8,500', '$8,990', ..., '$385', '$22,200', '$16,995'],\n",
       "      dtype=object)"
      ]
     },
     "execution_count": 12,
     "metadata": {},
     "output_type": "execute_result"
    }
   ],
   "source": [
    "# To find the format in price column.\n",
    "\n",
    "autos[\"price\"].unique()"
   ]
  },
  {
   "cell_type": "markdown",
   "metadata": {},
   "source": [
    "We will remove `$`, `,` from price column and convert it to int type."
   ]
  },
  {
   "cell_type": "code",
   "execution_count": 13,
   "metadata": {},
   "outputs": [
    {
     "data": {
      "text/plain": [
       "array([ 5000,  8500,  8990, ...,   385, 22200, 16995])"
      ]
     },
     "execution_count": 13,
     "metadata": {},
     "output_type": "execute_result"
    }
   ],
   "source": [
    "# To remove unwanted characters and to convert to int type.\n",
    "\n",
    "price = (autos[\"price\"]\n",
    "         .str.replace(\"$\", \"\", regex=False)\n",
    "         .str.replace(\",\", \"\", regex=False)\n",
    "         .astype(int)\n",
    "         )\n",
    "price.unique()"
   ]
  },
  {
   "cell_type": "code",
   "execution_count": 14,
   "metadata": {},
   "outputs": [],
   "source": [
    "# Assigning temporary variable to dataset.\n",
    "\n",
    "autos[\"price\"] = price"
   ]
  },
  {
   "cell_type": "markdown",
   "metadata": {},
   "source": [
    "`price` column is converted to integer type."
   ]
  },
  {
   "cell_type": "code",
   "execution_count": 15,
   "metadata": {},
   "outputs": [
    {
     "data": {
      "text/plain": [
       "array(['150,000km', '70,000km', '50,000km', '80,000km', '10,000km',\n",
       "       '30,000km', '125,000km', '90,000km', '20,000km', '60,000km',\n",
       "       '5,000km', '100,000km', '40,000km'], dtype=object)"
      ]
     },
     "execution_count": 15,
     "metadata": {},
     "output_type": "execute_result"
    }
   ],
   "source": [
    "# To find the format in odometer column.\n",
    "\n",
    "autos[\"odometer\"].unique()"
   ]
  },
  {
   "cell_type": "markdown",
   "metadata": {},
   "source": [
    "We will remove `km`, `,` from odometer column and convert it to int type."
   ]
  },
  {
   "cell_type": "code",
   "execution_count": 16,
   "metadata": {},
   "outputs": [
    {
     "data": {
      "text/plain": [
       "array([150000,  70000,  50000,  80000,  10000,  30000, 125000,  90000,\n",
       "        20000,  60000,   5000, 100000,  40000])"
      ]
     },
     "execution_count": 16,
     "metadata": {},
     "output_type": "execute_result"
    }
   ],
   "source": [
    "# To remove unwanted characters and to convert to int type.\n",
    "\n",
    "odometer = (autos[\"odometer\"]\n",
    "            .str.replace(\"km\", \"\", regex=False)\n",
    "            .str.replace(\",\", \"\", regex=False)\n",
    "            .astype(int)\n",
    "            )\n",
    "odometer.unique()"
   ]
  },
  {
   "cell_type": "code",
   "execution_count": 17,
   "metadata": {},
   "outputs": [],
   "source": [
    "# Assigning temporary variable to dataset.\n",
    "\n",
    "autos[\"odometer\"] = odometer"
   ]
  },
  {
   "cell_type": "markdown",
   "metadata": {},
   "source": [
    "`odometer` column is converted to integer type. Let's rename `odometer` column to `odometer_km` for more clarity."
   ]
  },
  {
   "cell_type": "code",
   "execution_count": 18,
   "metadata": {},
   "outputs": [
    {
     "data": {
      "text/plain": [
       "Index(['date_crawled', 'name', 'seller', 'offer_type', 'price', 'ab_test',\n",
       "       'vehicle_type', 'registration_year', 'gearbox', 'power_ps', 'model',\n",
       "       'odometer_km', 'registration_month', 'fuel_type', 'brand',\n",
       "       'unrepaired_damage', 'ad_created', 'postal_code', 'last_seen'],\n",
       "      dtype='object')"
      ]
     },
     "execution_count": 18,
     "metadata": {},
     "output_type": "execute_result"
    }
   ],
   "source": [
    "# To rename odometer column to odometer_km.\n",
    "\n",
    "autos.rename({\"odometer\": \"odometer_km\"}, axis=\"columns\", inplace=True)\n",
    "autos.columns"
   ]
  },
  {
   "cell_type": "markdown",
   "metadata": {},
   "source": [
    "> Thus `price` and `odometer` columns are converted to integer type. `odometer` column is renamed to `odometer_km`.\n",
    "\n",
    "Let's analyse both columns using describe method for incorrect or misleading information."
   ]
  },
  {
   "cell_type": "code",
   "execution_count": 19,
   "metadata": {},
   "outputs": [
    {
     "name": "stdout",
     "output_type": "stream",
     "text": [
      "count    5.000000e+04\n",
      "mean     9.840044e+03\n",
      "std      4.811044e+05\n",
      "min      0.000000e+00\n",
      "25%      1.100000e+03\n",
      "50%      2.950000e+03\n",
      "75%      7.200000e+03\n",
      "max      1.000000e+08\n",
      "Name: price, dtype: float64\n",
      "\n",
      "\n",
      "count     50000.000000\n",
      "mean     125732.700000\n",
      "std       40042.211706\n",
      "min        5000.000000\n",
      "25%      125000.000000\n",
      "50%      150000.000000\n",
      "75%      150000.000000\n",
      "max      150000.000000\n",
      "Name: odometer_km, dtype: float64\n"
     ]
    }
   ],
   "source": [
    "# To find misleading or incorrect data points.\n",
    "\n",
    "print(autos[\"price\"].describe())\n",
    "print(\"\\n\")\n",
    "print(autos[\"odometer_km\"].describe())"
   ]
  },
  {
   "cell_type": "markdown",
   "metadata": {},
   "source": [
    "The minimum value in `price` column is 0 and the maximum value is 100 million. As both these values are not realistic, we need to further analyze `price` column. The values in this columns are rounded.\n",
    "\n",
    "The values in `odometer_km` column are rounded and most of the readings are above 125,000 km."
   ]
  },
  {
   "cell_type": "code",
   "execution_count": 20,
   "metadata": {},
   "outputs": [
    {
     "name": "stdout",
     "output_type": "stream",
     "text": [
      "Least Price\n",
      "-----------\n",
      "0     1421\n",
      "1      156\n",
      "2        3\n",
      "3        1\n",
      "5        2\n",
      "8        1\n",
      "9        1\n",
      "10       7\n",
      "11       2\n",
      "12       3\n",
      "13       2\n",
      "14       1\n",
      "15       2\n",
      "17       3\n",
      "18       1\n",
      "20       4\n",
      "25       5\n",
      "29       1\n",
      "30       7\n",
      "35       1\n",
      "Name: price, dtype: int64\n",
      "\n",
      "\n",
      "Max Price\n",
      "---------\n",
      "197000      1\n",
      "198000      1\n",
      "220000      1\n",
      "250000      1\n",
      "259000      1\n",
      "265000      1\n",
      "295000      1\n",
      "299000      1\n",
      "345000      1\n",
      "350000      1\n",
      "999990      1\n",
      "999999      2\n",
      "1234566     1\n",
      "1300000     1\n",
      "3890000     1\n",
      "10000000    1\n",
      "11111111    2\n",
      "12345678    3\n",
      "27322222    1\n",
      "99999999    1\n",
      "Name: price, dtype: int64\n"
     ]
    }
   ],
   "source": [
    "# To view the count of various values in price column - ascending order.\n",
    "\n",
    "print(\"Least Price\\n-----------\")\n",
    "print(autos[\"price\"].value_counts().sort_index(ascending=True).head(20))\n",
    "print(\"\\n\")\n",
    "print(\"Max Price\\n---------\")\n",
    "print(autos[\"price\"].value_counts().sort_index(ascending=True).tail(20))"
   ]
  },
  {
   "cell_type": "markdown",
   "metadata": {},
   "source": [
    "As seen from the above result, there are 1421 used cars with price marked as 0 euros and various used cars with price above 10,000,000 euros. \n",
    "\n",
    "Given that eBay is an auction site, there could legitimately be items where the opening bid is 1 euro. We will keep the 1 euro items, but remove anything above 350,000 euros, since it seems that prices increase steadily to that number and then jump up to less realistic numbers."
   ]
  },
  {
   "cell_type": "code",
   "execution_count": 21,
   "metadata": {},
   "outputs": [
    {
     "data": {
      "text/plain": [
       "count     48565.000000\n",
       "mean       5888.935591\n",
       "std        9059.854754\n",
       "min           1.000000\n",
       "25%        1200.000000\n",
       "50%        3000.000000\n",
       "75%        7490.000000\n",
       "max      350000.000000\n",
       "Name: price, dtype: float64"
      ]
     },
     "execution_count": 21,
     "metadata": {},
     "output_type": "execute_result"
    }
   ],
   "source": [
    "# To select rows between 1 and 350,000 in price column.\n",
    "\n",
    "autos = autos[autos[\"price\"].between(1, 350000)]\n",
    "autos[\"price\"].describe()"
   ]
  },
  {
   "cell_type": "markdown",
   "metadata": {},
   "source": [
    "> Thus incorrect values are removed from `price` column. \n",
    "\n",
    "**registration_month column**"
   ]
  },
  {
   "cell_type": "code",
   "execution_count": 22,
   "metadata": {
    "scrolled": false
   },
   "outputs": [
    {
     "data": {
      "text/plain": [
       "count    48565.000000\n",
       "mean         5.782251\n",
       "std          3.685595\n",
       "min          0.000000\n",
       "25%          3.000000\n",
       "50%          6.000000\n",
       "75%          9.000000\n",
       "max         12.000000\n",
       "Name: registration_month, dtype: float64"
      ]
     },
     "execution_count": 22,
     "metadata": {},
     "output_type": "execute_result"
    }
   ],
   "source": [
    "# registration_month column distribution.\n",
    "\n",
    "autos[\"registration_month\"].describe()"
   ]
  },
  {
   "cell_type": "markdown",
   "metadata": {},
   "source": [
    "The minimum value in registration_month column is zero and its a wrong entry. The month value should be between 1 and 12. Let's investigate this column further."
   ]
  },
  {
   "cell_type": "code",
   "execution_count": 23,
   "metadata": {
    "scrolled": true
   },
   "outputs": [
    {
     "data": {
      "text/plain": [
       "0     4480\n",
       "1     3219\n",
       "2     2937\n",
       "3     5003\n",
       "4     4036\n",
       "5     4031\n",
       "6     4271\n",
       "7     3857\n",
       "8     3126\n",
       "9     3330\n",
       "10    3588\n",
       "11    3313\n",
       "12    3374\n",
       "Name: registration_month, dtype: int64"
      ]
     },
     "execution_count": 23,
     "metadata": {},
     "output_type": "execute_result"
    }
   ],
   "source": [
    "# To find the occurance of values in registration_month column.\n",
    "\n",
    "autos[\"registration_month\"].value_counts().sort_index()"
   ]
  },
  {
   "cell_type": "markdown",
   "metadata": {},
   "source": [
    "There are 4480 rows with registration month as zero. Let's remove these rows from the dataset."
   ]
  },
  {
   "cell_type": "code",
   "execution_count": 24,
   "metadata": {},
   "outputs": [
    {
     "data": {
      "text/plain": [
       "1     3219\n",
       "2     2937\n",
       "3     5003\n",
       "4     4036\n",
       "5     4031\n",
       "6     4271\n",
       "7     3857\n",
       "8     3126\n",
       "9     3330\n",
       "10    3588\n",
       "11    3313\n",
       "12    3374\n",
       "Name: registration_month, dtype: int64"
      ]
     },
     "execution_count": 24,
     "metadata": {},
     "output_type": "execute_result"
    }
   ],
   "source": [
    "# To remove rows with registration month as zero.\n",
    "\n",
    "autos = autos[autos[\"registration_month\"].between(1, 12)]\n",
    "autos[\"registration_month\"].value_counts().sort_index()"
   ]
  },
  {
   "cell_type": "markdown",
   "metadata": {},
   "source": [
    "> Thus incorrect values are removed from `registration_month` column.\n",
    "\n",
    "**registration_year column** "
   ]
  },
  {
   "cell_type": "code",
   "execution_count": 25,
   "metadata": {},
   "outputs": [
    {
     "data": {
      "text/plain": [
       "count    44085.000000\n",
       "mean      2004.111739\n",
       "std         46.511679\n",
       "min       1800.000000\n",
       "25%       1999.000000\n",
       "50%       2004.000000\n",
       "75%       2008.000000\n",
       "max       9000.000000\n",
       "Name: registration_year, dtype: float64"
      ]
     },
     "execution_count": 25,
     "metadata": {},
     "output_type": "execute_result"
    }
   ],
   "source": [
    "# registration_year column distribution.\n",
    "\n",
    "autos[\"registration_year\"].describe()"
   ]
  },
  {
   "cell_type": "markdown",
   "metadata": {},
   "source": [
    "The minumum and maximum value in registration_year column are 1800 and 9000 respectively. 1800 represent years before the invention of car and 9000 is in the future. This column needs more analysis."
   ]
  },
  {
   "cell_type": "code",
   "execution_count": 26,
   "metadata": {},
   "outputs": [
    {
     "data": {
      "text/plain": [
       "1800    2\n",
       "1927    1\n",
       "1929    1\n",
       "1931    1\n",
       "1934    1\n",
       "       ..\n",
       "2800    1\n",
       "4800    1\n",
       "5000    2\n",
       "6200    1\n",
       "9000    1\n",
       "Name: registration_year, Length: 86, dtype: int64"
      ]
     },
     "execution_count": 26,
     "metadata": {},
     "output_type": "execute_result"
    }
   ],
   "source": [
    "# To find the occurance of values in registration_year column.\n",
    "\n",
    "autos[\"registration_year\"].value_counts().sort_index()"
   ]
  },
  {
   "cell_type": "markdown",
   "metadata": {},
   "source": [
    "The data crawling was done in 2016, so let's remove any registration year after 2016. Other than the 2 occurance in 1800, the rest of the data starts from the year 1927. So let's remove 1800 from the dataset.\n"
   ]
  },
  {
   "cell_type": "code",
   "execution_count": 27,
   "metadata": {},
   "outputs": [
    {
     "data": {
      "text/plain": [
       "count    42655.000000\n",
       "mean      2003.195921\n",
       "std          6.939793\n",
       "min       1927.000000\n",
       "25%       1999.000000\n",
       "50%       2004.000000\n",
       "75%       2008.000000\n",
       "max       2016.000000\n",
       "Name: registration_year, dtype: float64"
      ]
     },
     "execution_count": 27,
     "metadata": {},
     "output_type": "execute_result"
    }
   ],
   "source": [
    "# To remove incorrect rows from autos dataset.\n",
    "\n",
    "autos = autos[autos[\"registration_year\"].between(1927, 2016)]\n",
    "autos[\"registration_year\"].describe()"
   ]
  },
  {
   "cell_type": "markdown",
   "metadata": {},
   "source": [
    "> Thus incorrect values are removed from `registration_year` column.\n",
    "\n",
    "**unrepaired_damage column**\n",
    "\n",
    "To change the language to english. Let's see the values already existing in the column."
   ]
  },
  {
   "cell_type": "code",
   "execution_count": 28,
   "metadata": {},
   "outputs": [
    {
     "data": {
      "text/plain": [
       "nein    32719\n",
       "ja       3981\n",
       "Name: unrepaired_damage, dtype: int64"
      ]
     },
     "execution_count": 28,
     "metadata": {},
     "output_type": "execute_result"
    }
   ],
   "source": [
    "# To view the value counts in unrepaired_damage column.\n",
    "\n",
    "autos[\"unrepaired_damage\"].value_counts()"
   ]
  },
  {
   "cell_type": "code",
   "execution_count": 29,
   "metadata": {},
   "outputs": [],
   "source": [
    "# Mapping from german to english language.\n",
    "\n",
    "correction = {\"nein\": \"No\", \"ja\": \"Yes\"}\n",
    "autos[\"unrepaired_damage\"] = autos[\"unrepaired_damage\"].map(correction)"
   ]
  },
  {
   "cell_type": "markdown",
   "metadata": {},
   "source": [
    "Let's check whether the mapping was done using value_counts method as shown below."
   ]
  },
  {
   "cell_type": "code",
   "execution_count": 30,
   "metadata": {},
   "outputs": [
    {
     "data": {
      "text/plain": [
       "No     32719\n",
       "Yes     3981\n",
       "Name: unrepaired_damage, dtype: int64"
      ]
     },
     "execution_count": 30,
     "metadata": {},
     "output_type": "execute_result"
    }
   ],
   "source": [
    "# To verify the result.\n",
    "\n",
    "autos[\"unrepaired_damage\"].value_counts()"
   ]
  },
  {
   "cell_type": "markdown",
   "metadata": {},
   "source": [
    "> Thus `unrepaired_damage` column was converted to english language.\n",
    "\n",
    "**seller column**\n",
    "\n",
    "To change the language to english. Let's see the values already existing in the column."
   ]
  },
  {
   "cell_type": "code",
   "execution_count": 31,
   "metadata": {},
   "outputs": [
    {
     "data": {
      "text/plain": [
       "privat        42654\n",
       "gewerblich        1\n",
       "Name: seller, dtype: int64"
      ]
     },
     "execution_count": 31,
     "metadata": {},
     "output_type": "execute_result"
    }
   ],
   "source": [
    "# To view the value counts in unrepaired_damage column.\n",
    "\n",
    "autos[\"seller\"].value_counts()"
   ]
  },
  {
   "cell_type": "code",
   "execution_count": 32,
   "metadata": {},
   "outputs": [],
   "source": [
    "# Mapping from german to english language.\n",
    "\n",
    "correction = {\"privat\": \"private\", \"gewerblich\": \"commercial\"}\n",
    "autos[\"seller\"] = autos[\"seller\"].map(correction)"
   ]
  },
  {
   "cell_type": "markdown",
   "metadata": {},
   "source": [
    "Let's check whether the mapping was done using value_counts method as shown below."
   ]
  },
  {
   "cell_type": "code",
   "execution_count": 33,
   "metadata": {},
   "outputs": [
    {
     "data": {
      "text/plain": [
       "private       42654\n",
       "commercial        1\n",
       "Name: seller, dtype: int64"
      ]
     },
     "execution_count": 33,
     "metadata": {},
     "output_type": "execute_result"
    }
   ],
   "source": [
    "# To verify the result.\n",
    "\n",
    "autos[\"seller\"].value_counts()"
   ]
  },
  {
   "cell_type": "markdown",
   "metadata": {},
   "source": [
    "> Thus `seller` column was converted to english language.\n",
    "\n",
    "## Data Analysis"
   ]
  },
  {
   "cell_type": "markdown",
   "metadata": {},
   "source": [
    "**Date columns analysis**\n",
    "\n",
    "There are 5 columns that should represent date values. Some of these columns were created by the crawler, some came from the website itself. We can differentiate by referring to the data dictionary.\n",
    "\n",
    "- `date_crawled`: added by the crawler\n",
    "- `last_seen`: added by the crawler\n",
    "- `ad_created`: from the website\n",
    "- `registration_month`: from the website\n",
    "- `registration_year`: from the website"
   ]
  },
  {
   "cell_type": "code",
   "execution_count": 34,
   "metadata": {},
   "outputs": [
    {
     "data": {
      "text/html": [
       "<div>\n",
       "<style scoped>\n",
       "    .dataframe tbody tr th:only-of-type {\n",
       "        vertical-align: middle;\n",
       "    }\n",
       "\n",
       "    .dataframe tbody tr th {\n",
       "        vertical-align: top;\n",
       "    }\n",
       "\n",
       "    .dataframe thead th {\n",
       "        text-align: right;\n",
       "    }\n",
       "</style>\n",
       "<table border=\"1\" class=\"dataframe\">\n",
       "  <thead>\n",
       "    <tr style=\"text-align: right;\">\n",
       "      <th></th>\n",
       "      <th>date_crawled</th>\n",
       "      <th>last_seen</th>\n",
       "      <th>ad_created</th>\n",
       "      <th>registration_month</th>\n",
       "      <th>registration_year</th>\n",
       "    </tr>\n",
       "  </thead>\n",
       "  <tbody>\n",
       "    <tr>\n",
       "      <th>0</th>\n",
       "      <td>2016-03-26 17:47:46</td>\n",
       "      <td>2016-04-06 06:45:54</td>\n",
       "      <td>2016-03-26 00:00:00</td>\n",
       "      <td>3</td>\n",
       "      <td>2004</td>\n",
       "    </tr>\n",
       "    <tr>\n",
       "      <th>1</th>\n",
       "      <td>2016-04-04 13:38:56</td>\n",
       "      <td>2016-04-06 14:45:08</td>\n",
       "      <td>2016-04-04 00:00:00</td>\n",
       "      <td>6</td>\n",
       "      <td>1997</td>\n",
       "    </tr>\n",
       "    <tr>\n",
       "      <th>2</th>\n",
       "      <td>2016-03-26 18:57:24</td>\n",
       "      <td>2016-04-06 20:15:37</td>\n",
       "      <td>2016-03-26 00:00:00</td>\n",
       "      <td>7</td>\n",
       "      <td>2009</td>\n",
       "    </tr>\n",
       "    <tr>\n",
       "      <th>3</th>\n",
       "      <td>2016-03-12 16:58:10</td>\n",
       "      <td>2016-03-15 03:16:28</td>\n",
       "      <td>2016-03-12 00:00:00</td>\n",
       "      <td>6</td>\n",
       "      <td>2007</td>\n",
       "    </tr>\n",
       "    <tr>\n",
       "      <th>4</th>\n",
       "      <td>2016-04-01 14:38:50</td>\n",
       "      <td>2016-04-01 14:38:50</td>\n",
       "      <td>2016-04-01 00:00:00</td>\n",
       "      <td>7</td>\n",
       "      <td>2003</td>\n",
       "    </tr>\n",
       "  </tbody>\n",
       "</table>\n",
       "</div>"
      ],
      "text/plain": [
       "          date_crawled            last_seen           ad_created  \\\n",
       "0  2016-03-26 17:47:46  2016-04-06 06:45:54  2016-03-26 00:00:00   \n",
       "1  2016-04-04 13:38:56  2016-04-06 14:45:08  2016-04-04 00:00:00   \n",
       "2  2016-03-26 18:57:24  2016-04-06 20:15:37  2016-03-26 00:00:00   \n",
       "3  2016-03-12 16:58:10  2016-03-15 03:16:28  2016-03-12 00:00:00   \n",
       "4  2016-04-01 14:38:50  2016-04-01 14:38:50  2016-04-01 00:00:00   \n",
       "\n",
       "   registration_month  registration_year  \n",
       "0                   3               2004  \n",
       "1                   6               1997  \n",
       "2                   7               2009  \n",
       "3                   6               2007  \n",
       "4                   7               2003  "
      ]
     },
     "execution_count": 34,
     "metadata": {},
     "output_type": "execute_result"
    }
   ],
   "source": [
    "# To view the format in which data points appear.\n",
    "\n",
    "autos[[\"date_crawled\", \"last_seen\", \"ad_created\",\n",
    "       \"registration_month\", \"registration_year\"]].head()"
   ]
  },
  {
   "cell_type": "markdown",
   "metadata": {},
   "source": [
    "Let's first analyse `date_crawled` column. It represents the date when the ad was first crawled."
   ]
  },
  {
   "cell_type": "code",
   "execution_count": 35,
   "metadata": {},
   "outputs": [
    {
     "data": {
      "text/plain": [
       "2016-03-05    0.025062\n",
       "2016-03-06    0.014301\n",
       "2016-03-07    0.036362\n",
       "2016-03-08    0.033220\n",
       "2016-03-09    0.033126\n",
       "2016-03-10    0.032212\n",
       "2016-03-11    0.032986\n",
       "2016-03-12    0.036971\n",
       "2016-03-13    0.015637\n",
       "2016-03-14    0.036619\n",
       "2016-03-15    0.033900\n",
       "2016-03-16    0.029399\n",
       "2016-03-17    0.031368\n",
       "2016-03-18    0.012894\n",
       "2016-03-19    0.034416\n",
       "2016-03-20    0.038167\n",
       "2016-03-21    0.037299\n",
       "2016-03-22    0.032728\n",
       "2016-03-23    0.032306\n",
       "2016-03-24    0.029211\n",
       "2016-03-25    0.031087\n",
       "2016-03-26    0.032259\n",
       "2016-03-27    0.030946\n",
       "2016-03-28    0.034697\n",
       "2016-03-29    0.033876\n",
       "2016-03-30    0.033431\n",
       "2016-03-31    0.031790\n",
       "2016-04-01    0.034345\n",
       "2016-04-02    0.035916\n",
       "2016-04-03    0.039222\n",
       "2016-04-04    0.036596\n",
       "2016-04-05    0.013082\n",
       "2016-04-06    0.003118\n",
       "2016-04-07    0.001454\n",
       "Name: date_crawled, dtype: float64"
      ]
     },
     "execution_count": 35,
     "metadata": {},
     "output_type": "execute_result"
    }
   ],
   "source": [
    "# To find the distribution of data points in date_crawled column. ordered in ascending order by date.\n",
    "\n",
    "(autos[\"date_crawled\"]\n",
    " .str[:10]\n",
    " .value_counts(normalize=True, dropna=False)\n",
    " .sort_index()\n",
    " )"
   ]
  },
  {
   "cell_type": "code",
   "execution_count": 36,
   "metadata": {},
   "outputs": [
    {
     "data": {
      "text/plain": [
       "2016-04-07    0.001454\n",
       "2016-04-06    0.003118\n",
       "2016-03-18    0.012894\n",
       "2016-04-05    0.013082\n",
       "2016-03-06    0.014301\n",
       "2016-03-13    0.015637\n",
       "2016-03-05    0.025062\n",
       "2016-03-24    0.029211\n",
       "2016-03-16    0.029399\n",
       "2016-03-27    0.030946\n",
       "2016-03-25    0.031087\n",
       "2016-03-17    0.031368\n",
       "2016-03-31    0.031790\n",
       "2016-03-10    0.032212\n",
       "2016-03-26    0.032259\n",
       "2016-03-23    0.032306\n",
       "2016-03-22    0.032728\n",
       "2016-03-11    0.032986\n",
       "2016-03-09    0.033126\n",
       "2016-03-08    0.033220\n",
       "2016-03-30    0.033431\n",
       "2016-03-29    0.033876\n",
       "2016-03-15    0.033900\n",
       "2016-04-01    0.034345\n",
       "2016-03-19    0.034416\n",
       "2016-03-28    0.034697\n",
       "2016-04-02    0.035916\n",
       "2016-03-07    0.036362\n",
       "2016-04-04    0.036596\n",
       "2016-03-14    0.036619\n",
       "2016-03-12    0.036971\n",
       "2016-03-21    0.037299\n",
       "2016-03-20    0.038167\n",
       "2016-04-03    0.039222\n",
       "Name: date_crawled, dtype: float64"
      ]
     },
     "execution_count": 36,
     "metadata": {},
     "output_type": "execute_result"
    }
   ],
   "source": [
    "# To find the distribution of data points in date_crawled column. ordered in ascending order by distribution.\n",
    "\n",
    "(autos[\"date_crawled\"]\n",
    " .str[:10]\n",
    " .value_counts(normalize=True, dropna=False)\n",
    " .sort_values()\n",
    " )"
   ]
  },
  {
   "cell_type": "markdown",
   "metadata": {},
   "source": [
    "The website was crawled every day from 2016-03-05 to 2016-04-07. The date_crawled column is uniformly distributed with each date not exceeding 4 percentage of the total data points. \n",
    "\n",
    "Now let's analyse `last_seen` column. It represents the date when the crawler saw the ad last online."
   ]
  },
  {
   "cell_type": "code",
   "execution_count": 37,
   "metadata": {},
   "outputs": [
    {
     "data": {
      "text/plain": [
       "2016-03-05    0.001102\n",
       "2016-03-06    0.003939\n",
       "2016-03-07    0.005392\n",
       "2016-03-08    0.007268\n",
       "2016-03-09    0.009659\n",
       "2016-03-10    0.010597\n",
       "2016-03-11    0.012331\n",
       "2016-03-12    0.023655\n",
       "2016-03-13    0.008557\n",
       "2016-03-14    0.012519\n",
       "2016-03-15    0.015872\n",
       "2016-03-16    0.016294\n",
       "2016-03-17    0.027617\n",
       "2016-03-18    0.007385\n",
       "2016-03-19    0.015450\n",
       "2016-03-20    0.020302\n",
       "2016-03-21    0.020537\n",
       "2016-03-22    0.020537\n",
       "2016-03-23    0.018239\n",
       "2016-03-24    0.019505\n",
       "2016-03-25    0.018614\n",
       "2016-03-26    0.016645\n",
       "2016-03-27    0.015168\n",
       "2016-03-28    0.020443\n",
       "2016-03-29    0.021944\n",
       "2016-03-30    0.024288\n",
       "2016-03-31    0.023514\n",
       "2016-04-01    0.023374\n",
       "2016-04-02    0.025062\n",
       "2016-04-03    0.025038\n",
       "2016-04-04    0.023678\n",
       "2016-04-05    0.127300\n",
       "2016-04-06    0.224358\n",
       "2016-04-07    0.133818\n",
       "Name: last_seen, dtype: float64"
      ]
     },
     "execution_count": 37,
     "metadata": {},
     "output_type": "execute_result"
    }
   ],
   "source": [
    "# To find the distribution of data points in last_seen column. ordered in ascending order by date.\n",
    "\n",
    "(autos[\"last_seen\"]\n",
    " .str[:10]\n",
    " .value_counts(normalize=True, dropna=False)\n",
    " .sort_index()\n",
    " )"
   ]
  },
  {
   "cell_type": "code",
   "execution_count": 38,
   "metadata": {},
   "outputs": [
    {
     "data": {
      "text/plain": [
       "2016-03-05    0.001102\n",
       "2016-03-06    0.003939\n",
       "2016-03-07    0.005392\n",
       "2016-03-08    0.007268\n",
       "2016-03-18    0.007385\n",
       "2016-03-13    0.008557\n",
       "2016-03-09    0.009659\n",
       "2016-03-10    0.010597\n",
       "2016-03-11    0.012331\n",
       "2016-03-14    0.012519\n",
       "2016-03-27    0.015168\n",
       "2016-03-19    0.015450\n",
       "2016-03-15    0.015872\n",
       "2016-03-16    0.016294\n",
       "2016-03-26    0.016645\n",
       "2016-03-23    0.018239\n",
       "2016-03-25    0.018614\n",
       "2016-03-24    0.019505\n",
       "2016-03-20    0.020302\n",
       "2016-03-28    0.020443\n",
       "2016-03-22    0.020537\n",
       "2016-03-21    0.020537\n",
       "2016-03-29    0.021944\n",
       "2016-04-01    0.023374\n",
       "2016-03-31    0.023514\n",
       "2016-03-12    0.023655\n",
       "2016-04-04    0.023678\n",
       "2016-03-30    0.024288\n",
       "2016-04-03    0.025038\n",
       "2016-04-02    0.025062\n",
       "2016-03-17    0.027617\n",
       "2016-04-05    0.127300\n",
       "2016-04-07    0.133818\n",
       "2016-04-06    0.224358\n",
       "Name: last_seen, dtype: float64"
      ]
     },
     "execution_count": 38,
     "metadata": {},
     "output_type": "execute_result"
    }
   ],
   "source": [
    "# To find the distribution of data points in last_seen column. ordered in ascending order by distribution.\n",
    "\n",
    "(autos[\"last_seen\"]\n",
    " .str[:10]\n",
    " .value_counts(normalize=True, dropna=False)\n",
    " .sort_values()\n",
    " )"
   ]
  },
  {
   "cell_type": "markdown",
   "metadata": {},
   "source": [
    "The crawler recorded the date it last saw any listing, which allows us to determine on what day a listing was removed, presumably because the car was sold.\n",
    "\n",
    "The last three days contain a disproportionate amount of 'last seen' values. Given that these are 6-10x the values from the previous days, it's unlikely that there was a massive spike in sales, and more likely that these values are to do with the crawling period ending and don't indicate car sales.\n",
    "\n",
    "Nows let's have a look at `ad_created` column. It represents the date at which an ad was created."
   ]
  },
  {
   "cell_type": "code",
   "execution_count": 39,
   "metadata": {},
   "outputs": [
    {
     "name": "stdout",
     "output_type": "stream",
     "text": [
      "The number of dates in ad_created column:  74\n",
      "\n",
      "\n",
      "2015-06-11    0.000023\n",
      "2015-08-10    0.000023\n",
      "2015-09-09    0.000023\n",
      "2015-11-10    0.000023\n",
      "2015-12-05    0.000023\n",
      "                ...   \n",
      "2016-04-03    0.039386\n",
      "2016-04-04    0.036924\n",
      "2016-04-05    0.011886\n",
      "2016-04-06    0.003212\n",
      "2016-04-07    0.001289\n",
      "Name: ad_created, Length: 74, dtype: float64\n"
     ]
    }
   ],
   "source": [
    "# ad_created column distribution.\n",
    "\n",
    "print(\"The number of dates in ad_created column: \",\n",
    "      autos[\"ad_created\"].unique().shape[0])\n",
    "print(\"\\n\")\n",
    "print(autos[\"ad_created\"]\n",
    "      .str[:10]\n",
    "      .value_counts(normalize=True, dropna=False)\n",
    "      .sort_index()\n",
    "      )"
   ]
  },
  {
   "cell_type": "markdown",
   "metadata": {},
   "source": [
    "More than 90% of ads where created during the same time the data was crawled. Oldest listing was created 9 month prior to the data crawling period. \n",
    "\n",
    "Now let's analyse registration_month column."
   ]
  },
  {
   "cell_type": "code",
   "execution_count": 40,
   "metadata": {},
   "outputs": [
    {
     "data": {
      "text/plain": [
       "1     0.072793\n",
       "2     0.066815\n",
       "3     0.113422\n",
       "4     0.091291\n",
       "5     0.090892\n",
       "6     0.096565\n",
       "7     0.087258\n",
       "8     0.070824\n",
       "9     0.076029\n",
       "10    0.081936\n",
       "11    0.075700\n",
       "12    0.076474\n",
       "Name: registration_month, dtype: float64"
      ]
     },
     "execution_count": 40,
     "metadata": {},
     "output_type": "execute_result"
    }
   ],
   "source": [
    "# registration_month column distribution.\n",
    "\n",
    "autos[\"registration_month\"].value_counts(normalize=True).sort_index()"
   ]
  },
  {
   "cell_type": "markdown",
   "metadata": {},
   "source": [
    "Now let's analyse registration_year column."
   ]
  },
  {
   "cell_type": "code",
   "execution_count": 41,
   "metadata": {},
   "outputs": [
    {
     "data": {
      "text/plain": [
       "1952    0.000023\n",
       "1943    0.000023\n",
       "1957    0.000023\n",
       "1948    0.000023\n",
       "1954    0.000023\n",
       "          ...   \n",
       "2006    0.060392\n",
       "2004    0.060649\n",
       "2000    0.060814\n",
       "1999    0.061282\n",
       "2005    0.063252\n",
       "Name: registration_year, Length: 77, dtype: float64"
      ]
     },
     "execution_count": 41,
     "metadata": {},
     "output_type": "execute_result"
    }
   ],
   "source": [
    "# registration_year column distribution.\n",
    "\n",
    "autos[\"registration_year\"].value_counts(normalize=True).sort_values()"
   ]
  },
  {
   "cell_type": "markdown",
   "metadata": {},
   "source": [
    "> 97.46% of listing on ebay Kleinanzeigen has a registration year of 1990 or later.\n",
    "\n",
    "**Average price for each Brand**\n",
    "\n",
    "Let's use the `brand` and `price` column to find the average price of a used car corresponding to a brand."
   ]
  },
  {
   "cell_type": "code",
   "execution_count": 42,
   "metadata": {},
   "outputs": [
    {
     "name": "stdout",
     "output_type": "stream",
     "text": [
      "The total number of brands:  40\n",
      "\n",
      "Brand name versus the number of listed cars\n",
      "-------------------------------------------\n",
      "volkswagen        8882\n",
      "bmw               4778\n",
      "opel              4432\n",
      "mercedes_benz     4254\n",
      "audi              3755\n",
      "ford              2932\n",
      "renault           1982\n",
      "peugeot           1280\n",
      "fiat              1085\n",
      "seat               783\n",
      "skoda              727\n",
      "nissan             660\n",
      "mazda              637\n",
      "smart              616\n",
      "citroen            589\n",
      "toyota             567\n",
      "hyundai            437\n",
      "mini               399\n",
      "sonstige_autos     398\n",
      "volvo              396\n",
      "mitsubishi         342\n",
      "honda              334\n",
      "kia                319\n",
      "alfa_romeo         282\n",
      "porsche            273\n",
      "suzuki             256\n",
      "chevrolet          245\n",
      "chrysler           148\n",
      "dacia              118\n",
      "jeep               101\n",
      "daihatsu           100\n",
      "land_rover          93\n",
      "subaru              86\n",
      "saab                73\n",
      "jaguar              67\n",
      "daewoo              64\n",
      "rover               56\n",
      "trabant             43\n",
      "lancia              43\n",
      "lada                23\n",
      "Name: brand, dtype: int64\n"
     ]
    }
   ],
   "source": [
    "# To find the popularity of various brands in the dataset.\n",
    "\n",
    "brand = autos[\"brand\"].value_counts().sort_values(ascending=False)\n",
    "brand_index = brand.index\n",
    "print(\"The total number of brands: \", brand.shape[0])\n",
    "print(\"\")\n",
    "print(\"Brand name versus the number of listed cars\")\n",
    "print(\"-------------------------------------------\")\n",
    "print(brand)"
   ]
  },
  {
   "cell_type": "markdown",
   "metadata": {},
   "source": [
    "Volkswagen, BMW, Opel, Mercedes Benz, Audi and Ford are the top six brands by the number of cars listed in the platform. Volkswagen is the most popular car brand and have 8,882 cars versus 4,778 cars listed by BMW in the second place. These top car manufacturers focus on making affordable cars for the general public and it will be evident when we compare the brand versus the average price of each car. \n",
    "\n",
    "> Volkswagen, BMW and Opel are the top three used car brands being sold on ebay Kleinanzeigen."
   ]
  },
  {
   "cell_type": "code",
   "execution_count": 43,
   "metadata": {},
   "outputs": [
    {
     "data": {
      "text/html": [
       "<div>\n",
       "<style scoped>\n",
       "    .dataframe tbody tr th:only-of-type {\n",
       "        vertical-align: middle;\n",
       "    }\n",
       "\n",
       "    .dataframe tbody tr th {\n",
       "        vertical-align: top;\n",
       "    }\n",
       "\n",
       "    .dataframe thead th {\n",
       "        text-align: right;\n",
       "    }\n",
       "</style>\n",
       "<table border=\"1\" class=\"dataframe\">\n",
       "  <thead>\n",
       "    <tr style=\"text-align: right;\">\n",
       "      <th></th>\n",
       "      <th>avg_price</th>\n",
       "    </tr>\n",
       "  </thead>\n",
       "  <tbody>\n",
       "    <tr>\n",
       "      <th>porsche</th>\n",
       "      <td>47482.344322</td>\n",
       "    </tr>\n",
       "    <tr>\n",
       "      <th>land_rover</th>\n",
       "      <td>19685.956989</td>\n",
       "    </tr>\n",
       "    <tr>\n",
       "      <th>sonstige_autos</th>\n",
       "      <td>13775.801508</td>\n",
       "    </tr>\n",
       "    <tr>\n",
       "      <th>jaguar</th>\n",
       "      <td>12459.283582</td>\n",
       "    </tr>\n",
       "    <tr>\n",
       "      <th>jeep</th>\n",
       "      <td>12049.049505</td>\n",
       "    </tr>\n",
       "    <tr>\n",
       "      <th>mini</th>\n",
       "      <td>10744.754386</td>\n",
       "    </tr>\n",
       "    <tr>\n",
       "      <th>audi</th>\n",
       "      <td>9776.165113</td>\n",
       "    </tr>\n",
       "    <tr>\n",
       "      <th>mercedes_benz</th>\n",
       "      <td>8882.735778</td>\n",
       "    </tr>\n",
       "    <tr>\n",
       "      <th>bmw</th>\n",
       "      <td>8652.106111</td>\n",
       "    </tr>\n",
       "    <tr>\n",
       "      <th>chevrolet</th>\n",
       "      <td>6835.963265</td>\n",
       "    </tr>\n",
       "    <tr>\n",
       "      <th>skoda</th>\n",
       "      <td>6569.939477</td>\n",
       "    </tr>\n",
       "    <tr>\n",
       "      <th>kia</th>\n",
       "      <td>6117.087774</td>\n",
       "    </tr>\n",
       "    <tr>\n",
       "      <th>dacia</th>\n",
       "      <td>5967.457627</td>\n",
       "    </tr>\n",
       "    <tr>\n",
       "      <th>volkswagen</th>\n",
       "      <td>5752.935150</td>\n",
       "    </tr>\n",
       "    <tr>\n",
       "      <th>hyundai</th>\n",
       "      <td>5588.768879</td>\n",
       "    </tr>\n",
       "    <tr>\n",
       "      <th>toyota</th>\n",
       "      <td>5283.061728</td>\n",
       "    </tr>\n",
       "    <tr>\n",
       "      <th>volvo</th>\n",
       "      <td>5109.189394</td>\n",
       "    </tr>\n",
       "    <tr>\n",
       "      <th>nissan</th>\n",
       "      <td>4955.293939</td>\n",
       "    </tr>\n",
       "    <tr>\n",
       "      <th>seat</th>\n",
       "      <td>4568.993614</td>\n",
       "    </tr>\n",
       "    <tr>\n",
       "      <th>subaru</th>\n",
       "      <td>4406.034884</td>\n",
       "    </tr>\n",
       "    <tr>\n",
       "      <th>honda</th>\n",
       "      <td>4379.116766</td>\n",
       "    </tr>\n",
       "    <tr>\n",
       "      <th>mazda</th>\n",
       "      <td>4349.810047</td>\n",
       "    </tr>\n",
       "    <tr>\n",
       "      <th>suzuki</th>\n",
       "      <td>4277.386719</td>\n",
       "    </tr>\n",
       "    <tr>\n",
       "      <th>alfa_romeo</th>\n",
       "      <td>4250.255319</td>\n",
       "    </tr>\n",
       "    <tr>\n",
       "      <th>ford</th>\n",
       "      <td>3957.076739</td>\n",
       "    </tr>\n",
       "    <tr>\n",
       "      <th>citroen</th>\n",
       "      <td>3902.359932</td>\n",
       "    </tr>\n",
       "    <tr>\n",
       "      <th>smart</th>\n",
       "      <td>3700.426948</td>\n",
       "    </tr>\n",
       "    <tr>\n",
       "      <th>chrysler</th>\n",
       "      <td>3601.912162</td>\n",
       "    </tr>\n",
       "    <tr>\n",
       "      <th>mitsubishi</th>\n",
       "      <td>3594.991228</td>\n",
       "    </tr>\n",
       "    <tr>\n",
       "      <th>saab</th>\n",
       "      <td>3329.410959</td>\n",
       "    </tr>\n",
       "    <tr>\n",
       "      <th>peugeot</th>\n",
       "      <td>3221.411719</td>\n",
       "    </tr>\n",
       "    <tr>\n",
       "      <th>lancia</th>\n",
       "      <td>3184.860465</td>\n",
       "    </tr>\n",
       "    <tr>\n",
       "      <th>opel</th>\n",
       "      <td>3167.165162</td>\n",
       "    </tr>\n",
       "    <tr>\n",
       "      <th>fiat</th>\n",
       "      <td>2950.726267</td>\n",
       "    </tr>\n",
       "    <tr>\n",
       "      <th>lada</th>\n",
       "      <td>2712.782609</td>\n",
       "    </tr>\n",
       "    <tr>\n",
       "      <th>renault</th>\n",
       "      <td>2616.376387</td>\n",
       "    </tr>\n",
       "    <tr>\n",
       "      <th>trabant</th>\n",
       "      <td>2289.976744</td>\n",
       "    </tr>\n",
       "    <tr>\n",
       "      <th>daihatsu</th>\n",
       "      <td>1761.310000</td>\n",
       "    </tr>\n",
       "    <tr>\n",
       "      <th>rover</th>\n",
       "      <td>1707.000000</td>\n",
       "    </tr>\n",
       "    <tr>\n",
       "      <th>daewoo</th>\n",
       "      <td>1088.750000</td>\n",
       "    </tr>\n",
       "  </tbody>\n",
       "</table>\n",
       "</div>"
      ],
      "text/plain": [
       "                   avg_price\n",
       "porsche         47482.344322\n",
       "land_rover      19685.956989\n",
       "sonstige_autos  13775.801508\n",
       "jaguar          12459.283582\n",
       "jeep            12049.049505\n",
       "mini            10744.754386\n",
       "audi             9776.165113\n",
       "mercedes_benz    8882.735778\n",
       "bmw              8652.106111\n",
       "chevrolet        6835.963265\n",
       "skoda            6569.939477\n",
       "kia              6117.087774\n",
       "dacia            5967.457627\n",
       "volkswagen       5752.935150\n",
       "hyundai          5588.768879\n",
       "toyota           5283.061728\n",
       "volvo            5109.189394\n",
       "nissan           4955.293939\n",
       "seat             4568.993614\n",
       "subaru           4406.034884\n",
       "honda            4379.116766\n",
       "mazda            4349.810047\n",
       "suzuki           4277.386719\n",
       "alfa_romeo       4250.255319\n",
       "ford             3957.076739\n",
       "citroen          3902.359932\n",
       "smart            3700.426948\n",
       "chrysler         3601.912162\n",
       "mitsubishi       3594.991228\n",
       "saab             3329.410959\n",
       "peugeot          3221.411719\n",
       "lancia           3184.860465\n",
       "opel             3167.165162\n",
       "fiat             2950.726267\n",
       "lada             2712.782609\n",
       "renault          2616.376387\n",
       "trabant          2289.976744\n",
       "daihatsu         1761.310000\n",
       "rover            1707.000000\n",
       "daewoo           1088.750000"
      ]
     },
     "execution_count": 43,
     "metadata": {},
     "output_type": "execute_result"
    }
   ],
   "source": [
    "# To find the average price for each brand.\n",
    "\n",
    "brand_and_avg_price = {}\n",
    "for value in brand_index:\n",
    "    brand_to_price = autos.loc[autos[\"brand\"] == value, \"price\"]\n",
    "    avg_price = brand_to_price.mean()\n",
    "    brand_and_avg_price[value] = avg_price\n",
    "avg_price = pd.DataFrame.from_dict(\n",
    "    brand_and_avg_price, orient=\"index\", columns=[\"avg_price\"])\n",
    "avg_price.sort_values(by=\"avg_price\", ascending=False)"
   ]
  },
  {
   "cell_type": "markdown",
   "metadata": {},
   "source": [
    "As seen from the above result, the top five car manufacturers by listed numbers are not present in the top five of this new list. There is a significant drop in average price after the top few rows. The top manufacturers in this list exclusively makes cars for the wealthy. The average price of Porsche is twice than that of the second place holder land_rover. Volkswagen has dropped significantly in the list due to its focus on mass manufacturing of affordable cars. Audi, Mercedes Benz and BMW are the only brands to maintain top ten spots in both lists. This makes it clear that these brands focus on both wealthy and the general economy. We observed that in the top 6 car brands, there's a distinct price gap.\n",
    "\n",
    "* Audi, BMW and Mercedes Benz are more expensive\n",
    "* Ford and Opel are less expensive\n",
    "* Volkswagen is in between\n",
    "\n",
    "> porsche, land_rover and sonstige_autos are the top three most priced used car brands on ebay Kleinanzeigen.\n",
    "\n",
    "**Average price and kilometers traveled for top 6 manufacturers**\n",
    "\n",
    "For the top 6 brands, let's use aggregation to understand the average kilometers traveled for those cars and if there's any visible link with mean price. "
   ]
  },
  {
   "cell_type": "code",
   "execution_count": 44,
   "metadata": {},
   "outputs": [
    {
     "data": {
      "text/html": [
       "<div>\n",
       "<style scoped>\n",
       "    .dataframe tbody tr th:only-of-type {\n",
       "        vertical-align: middle;\n",
       "    }\n",
       "\n",
       "    .dataframe tbody tr th {\n",
       "        vertical-align: top;\n",
       "    }\n",
       "\n",
       "    .dataframe thead th {\n",
       "        text-align: right;\n",
       "    }\n",
       "</style>\n",
       "<table border=\"1\" class=\"dataframe\">\n",
       "  <thead>\n",
       "    <tr style=\"text-align: right;\">\n",
       "      <th></th>\n",
       "      <th>count</th>\n",
       "      <th>mean_price</th>\n",
       "    </tr>\n",
       "  </thead>\n",
       "  <tbody>\n",
       "    <tr>\n",
       "      <th>volkswagen</th>\n",
       "      <td>8882</td>\n",
       "      <td>5752.935150</td>\n",
       "    </tr>\n",
       "    <tr>\n",
       "      <th>bmw</th>\n",
       "      <td>4778</td>\n",
       "      <td>8652.106111</td>\n",
       "    </tr>\n",
       "    <tr>\n",
       "      <th>opel</th>\n",
       "      <td>4432</td>\n",
       "      <td>3167.165162</td>\n",
       "    </tr>\n",
       "    <tr>\n",
       "      <th>mercedes_benz</th>\n",
       "      <td>4254</td>\n",
       "      <td>8882.735778</td>\n",
       "    </tr>\n",
       "    <tr>\n",
       "      <th>audi</th>\n",
       "      <td>3755</td>\n",
       "      <td>9776.165113</td>\n",
       "    </tr>\n",
       "    <tr>\n",
       "      <th>ford</th>\n",
       "      <td>2932</td>\n",
       "      <td>3957.076739</td>\n",
       "    </tr>\n",
       "  </tbody>\n",
       "</table>\n",
       "</div>"
      ],
      "text/plain": [
       "               count   mean_price\n",
       "volkswagen      8882  5752.935150\n",
       "bmw             4778  8652.106111\n",
       "opel            4432  3167.165162\n",
       "mercedes_benz   4254  8882.735778\n",
       "audi            3755  9776.165113\n",
       "ford            2932  3957.076739"
      ]
     },
     "execution_count": 44,
     "metadata": {},
     "output_type": "execute_result"
    }
   ],
   "source": [
    "# selecting the top six brands.\n",
    "\n",
    "top_six_brands = brand.head(6)\n",
    "top_six = top_six_brands.to_frame(\"count\")\n",
    "top_six[\"mean_price\"] = avg_price\n",
    "top_six"
   ]
  },
  {
   "cell_type": "code",
   "execution_count": 45,
   "metadata": {},
   "outputs": [
    {
     "name": "stdout",
     "output_type": "stream",
     "text": [
      "The average kilometers traveled by each car brand. \n",
      "\n",
      "volkswagen       128183.967575\n",
      "bmw              132489.535370\n",
      "opel             128752.256318\n",
      "mercedes_benz    130927.362482\n",
      "audi             128593.874834\n",
      "ford             124009.208731\n",
      "dtype: float64\n"
     ]
    }
   ],
   "source": [
    "# To find the mean kilometers traveled by each brand.\n",
    "\n",
    "brand_and_avg_km = {}\n",
    "for value in top_six_brands.index:\n",
    "    avg_km_each_brand = autos.loc[autos[\"brand\"]\n",
    "                                  == value, \"odometer_km\"].mean()\n",
    "    brand_and_avg_km[value] = avg_km_each_brand\n",
    "avg_km = pd.Series(brand_and_avg_km)\n",
    "print(\"The average kilometers traveled by each car brand. \\n\")\n",
    "print(avg_km)"
   ]
  },
  {
   "cell_type": "markdown",
   "metadata": {},
   "source": [
    "Let's try to combine the above series `avg_km` with `top_six` dataframe for more detailed view."
   ]
  },
  {
   "cell_type": "code",
   "execution_count": 46,
   "metadata": {},
   "outputs": [
    {
     "data": {
      "text/html": [
       "<div>\n",
       "<style scoped>\n",
       "    .dataframe tbody tr th:only-of-type {\n",
       "        vertical-align: middle;\n",
       "    }\n",
       "\n",
       "    .dataframe tbody tr th {\n",
       "        vertical-align: top;\n",
       "    }\n",
       "\n",
       "    .dataframe thead th {\n",
       "        text-align: right;\n",
       "    }\n",
       "</style>\n",
       "<table border=\"1\" class=\"dataframe\">\n",
       "  <thead>\n",
       "    <tr style=\"text-align: right;\">\n",
       "      <th></th>\n",
       "      <th>count</th>\n",
       "      <th>mean_price</th>\n",
       "      <th>mean_km</th>\n",
       "    </tr>\n",
       "  </thead>\n",
       "  <tbody>\n",
       "    <tr>\n",
       "      <th>audi</th>\n",
       "      <td>3755</td>\n",
       "      <td>9776.165113</td>\n",
       "      <td>128593.874834</td>\n",
       "    </tr>\n",
       "    <tr>\n",
       "      <th>mercedes_benz</th>\n",
       "      <td>4254</td>\n",
       "      <td>8882.735778</td>\n",
       "      <td>130927.362482</td>\n",
       "    </tr>\n",
       "    <tr>\n",
       "      <th>bmw</th>\n",
       "      <td>4778</td>\n",
       "      <td>8652.106111</td>\n",
       "      <td>132489.535370</td>\n",
       "    </tr>\n",
       "    <tr>\n",
       "      <th>volkswagen</th>\n",
       "      <td>8882</td>\n",
       "      <td>5752.935150</td>\n",
       "      <td>128183.967575</td>\n",
       "    </tr>\n",
       "    <tr>\n",
       "      <th>ford</th>\n",
       "      <td>2932</td>\n",
       "      <td>3957.076739</td>\n",
       "      <td>124009.208731</td>\n",
       "    </tr>\n",
       "    <tr>\n",
       "      <th>opel</th>\n",
       "      <td>4432</td>\n",
       "      <td>3167.165162</td>\n",
       "      <td>128752.256318</td>\n",
       "    </tr>\n",
       "  </tbody>\n",
       "</table>\n",
       "</div>"
      ],
      "text/plain": [
       "               count   mean_price        mean_km\n",
       "audi            3755  9776.165113  128593.874834\n",
       "mercedes_benz   4254  8882.735778  130927.362482\n",
       "bmw             4778  8652.106111  132489.535370\n",
       "volkswagen      8882  5752.935150  128183.967575\n",
       "ford            2932  3957.076739  124009.208731\n",
       "opel            4432  3167.165162  128752.256318"
      ]
     },
     "execution_count": 46,
     "metadata": {},
     "output_type": "execute_result"
    }
   ],
   "source": [
    "# Adding a new column mean_km to top_six dataframe.\n",
    "\n",
    "top_six[\"mean_km\"] = avg_km\n",
    "top_six.sort_values(by=\"mean_price\", ascending=False)"
   ]
  },
  {
   "cell_type": "markdown",
   "metadata": {},
   "source": [
    "The range of car mileages does not vary as much as the prices do by brand, instead all falling within 10% of the top brands. There is a slight trend to the more expensive vehicles having higher mileage, with the less expensive vehicles having lower mileage.\n",
    "\n",
    "\n",
    "**Most common brand/model combinations**\n",
    "\n",
    "Let's find out the most popular brand model combination on ebay Kleinanzeigen."
   ]
  },
  {
   "cell_type": "code",
   "execution_count": 47,
   "metadata": {},
   "outputs": [
    {
     "name": "stdout",
     "output_type": "stream",
     "text": [
      "The total number of brand model combination is  290\n",
      "\n",
      "brand model versus total count\n",
      "------------------------------\n",
      "volkswagen golf           3368\n",
      "bmw 3er                   2427\n",
      "volkswagen polo           1410\n",
      "opel corsa                1403\n",
      "volkswagen passat         1245\n",
      "opel astra                1218\n",
      "audi a4                   1137\n",
      "mercedes_benz c_klasse    1082\n",
      "bmw 5er                   1071\n",
      "mercedes_benz e_klasse     914\n",
      "audi a3                    782\n",
      "audi a6                    750\n",
      "ford focus                 704\n",
      "ford fiesta                658\n",
      "volkswagen transporter     612\n",
      "peugeot 2_reihe            572\n",
      "renault twingo             543\n",
      "smart fortwo               515\n",
      "mercedes_benz a_klasse     510\n",
      "bmw 1er                    509\n",
      "dtype: int64\n"
     ]
    }
   ],
   "source": [
    "# To form a series that contains both brand and model.\n",
    "\n",
    "brand_model = autos[\"brand\"].str.strip() + \" \" + autos[\"model\"].str.strip()\n",
    "\n",
    "print(\"The total number of brand model combination is \",\n",
    "      brand_model.value_counts().shape[0])\n",
    "print(\"\")\n",
    "print(\"brand model versus total count\")\n",
    "print(\"------------------------------\")\n",
    "print(brand_model.value_counts().sort_values(ascending=False).head(20))"
   ]
  },
  {
   "cell_type": "markdown",
   "metadata": {},
   "source": [
    "The above list contains 20 most popular brand model combination. \n",
    "\n",
    "> Thus `Volkswagen Golf` is the most popular used car on ebay Kleinanzeigen.\n",
    "\n",
    "**Price based on unrepaired damages**\n",
    "\n",
    "Let's find out how cheaper are cars with damage than their non-damaged counterparts. The columns to consider for this analysis are `price` and `unrepaired_damage`."
   ]
  },
  {
   "cell_type": "code",
   "execution_count": 48,
   "metadata": {},
   "outputs": [
    {
     "data": {
      "text/plain": [
       "No     32719\n",
       "NaN     5955\n",
       "Yes     3981\n",
       "Name: unrepaired_damage, dtype: int64"
      ]
     },
     "execution_count": 48,
     "metadata": {},
     "output_type": "execute_result"
    }
   ],
   "source": [
    "# To find the value counts in unrepaired_damage column.\n",
    "\n",
    "autos[\"unrepaired_damage\"].value_counts(dropna=False)"
   ]
  },
  {
   "cell_type": "markdown",
   "metadata": {},
   "source": [
    "NaN values are ignored for this analysis. Average price for damage and non-damaged used cars are calculated below."
   ]
  },
  {
   "cell_type": "code",
   "execution_count": 49,
   "metadata": {},
   "outputs": [
    {
     "name": "stdout",
     "output_type": "stream",
     "text": [
      "The average price for non damaged used car is  7296.379015251077  euros.\n",
      "\n",
      "The average price for damaged used car is  2404.8836975634263  euros.\n"
     ]
    }
   ],
   "source": [
    "# Average price for damage and non-damaged used cars.\n",
    "\n",
    "avg_price_damage = autos.loc[autos[\"unrepaired_damage\"]\n",
    "                             == \"Yes\", \"price\"].mean()\n",
    "avg_price_no_damage = autos.loc[autos[\"unrepaired_damage\"]\n",
    "                                == \"No\", \"price\"].mean()\n",
    "\n",
    "print(\"The average price for non damaged used car is \",\n",
    "      avg_price_no_damage, \" euros.\")\n",
    "print(\"\")\n",
    "print(\"The average price for damaged used car is \", avg_price_damage, \" euros.\")"
   ]
  },
  {
   "cell_type": "markdown",
   "metadata": {},
   "source": [
    "There is a huge difference in average price for damaged versus non-damaged used cars. The average price for a damaged used car is 2404.8837 versus 7296.379 euros for non damaged car.\n",
    "\n",
    "> A damaged used car is ~ 67% cheaper than a non-damaged car.\n",
    "\n",
    "**Kilometers traveled versus average price**\n",
    "\n",
    "Let's check whether the total number of kilometers traveled by a car affect its average price. Columns used in this analysis are `odometer_km` and `price`."
   ]
  },
  {
   "cell_type": "code",
   "execution_count": 50,
   "metadata": {},
   "outputs": [
    {
     "name": "stdout",
     "output_type": "stream",
     "text": [
      "150000    27071\n",
      "125000     4585\n",
      "100000     1922\n",
      "90000      1594\n",
      "80000      1324\n",
      "70000      1138\n",
      "60000      1089\n",
      "50000       956\n",
      "40000       777\n",
      "30000       736\n",
      "20000       715\n",
      "5000        527\n",
      "10000       221\n",
      "Name: odometer_km, dtype: int64\n"
     ]
    }
   ],
   "source": [
    "# To find the value counts for odometer_km column.\n",
    "\n",
    "odometer_km = autos[\"odometer_km\"].value_counts(dropna=False)\n",
    "print(odometer_km)"
   ]
  },
  {
   "cell_type": "markdown",
   "metadata": {},
   "source": [
    "Lets find the average price for each of the above traveled kilometers by used car."
   ]
  },
  {
   "cell_type": "code",
   "execution_count": 51,
   "metadata": {},
   "outputs": [
    {
     "name": "stdout",
     "output_type": "stream",
     "text": [
      "10000     21983.882353\n",
      "20000     19053.556643\n",
      "30000     16942.824728\n",
      "40000     15559.854569\n",
      "50000     14140.441423\n",
      "60000     12666.706152\n",
      "5000      11745.740038\n",
      "70000     11188.612478\n",
      "80000      9953.735650\n",
      "90000      8717.777290\n",
      "100000     8434.032258\n",
      "125000     6389.061941\n",
      "150000     3966.888811\n",
      "dtype: float64\n"
     ]
    }
   ],
   "source": [
    "# To find the average price versus the odometer reading in used car.\n",
    "\n",
    "avg_price_km = {}\n",
    "for values in odometer_km.index:\n",
    "    avg_price_each_km = autos.loc[autos[\"odometer_km\"]\n",
    "                                  == values, \"price\"].mean()\n",
    "    avg_price_km[values] = avg_price_each_km\n",
    "avg_price_odometer = pd.Series(avg_price_km)\n",
    "print(avg_price_odometer.sort_values(ascending=False))"
   ]
  },
  {
   "cell_type": "markdown",
   "metadata": {},
   "source": [
    "When the number of traveled kilometer incresed, the average price decreased as shown in the above result. The only exception to this rule is the 5000 km travled used car. It is priced equivalent to a car that has ~65,000 km reading. 5000 km is the lowest possible odometer reading in the dataset. There is a possibility that the car might have issues, as the seller is selling the car after such a low odometer reading. This explains the average pricing for such cars. \n",
    "\n",
    "> As the number of traveled kilometer increased, the average price decreased. Thus kilometers traveled by a used car is indirectly proportional to the average price.\n",
    "\n",
    "## Conclusion\n",
    "\n",
    "The following conclusions can be made about the used car market in Germany.\n",
    "\n",
    "* Volkswagen, BMW and Opel are the most popular used cars for sale. These brands offer affordable cars that can be easily resold on eBay Kleinanzeigen.\n",
    "* Porsche, Land Rover and Sonstige autos are the top three most priced used car brands. These brands tend to bring in a premium and thus can be listed at a higher sticker price.\n",
    "* Damaged and kilometers traveled are the main reasons for a reduced price in used car.  "
   ]
  }
 ],
 "metadata": {
  "kernelspec": {
   "display_name": "Python 3",
   "language": "python",
   "name": "python3"
  },
  "language_info": {
   "codemirror_mode": {
    "name": "ipython",
    "version": 3
   },
   "file_extension": ".py",
   "mimetype": "text/x-python",
   "name": "python",
   "nbconvert_exporter": "python",
   "pygments_lexer": "ipython3",
   "version": "3.8.8"
  },
  "toc": {
   "base_numbering": 1,
   "nav_menu": {},
   "number_sections": false,
   "sideBar": true,
   "skip_h1_title": false,
   "title_cell": "Table of Contents",
   "title_sidebar": "Contents",
   "toc_cell": false,
   "toc_position": {},
   "toc_section_display": true,
   "toc_window_display": false
  },
  "varInspector": {
   "cols": {
    "lenName": 16,
    "lenType": 16,
    "lenVar": 40
   },
   "kernels_config": {
    "python": {
     "delete_cmd_postfix": "",
     "delete_cmd_prefix": "del ",
     "library": "var_list.py",
     "varRefreshCmd": "print(var_dic_list())"
    },
    "r": {
     "delete_cmd_postfix": ") ",
     "delete_cmd_prefix": "rm(",
     "library": "var_list.r",
     "varRefreshCmd": "cat(var_dic_list()) "
    }
   },
   "types_to_exclude": [
    "module",
    "function",
    "builtin_function_or_method",
    "instance",
    "_Feature"
   ],
   "window_display": false
  }
 },
 "nbformat": 4,
 "nbformat_minor": 2
}
